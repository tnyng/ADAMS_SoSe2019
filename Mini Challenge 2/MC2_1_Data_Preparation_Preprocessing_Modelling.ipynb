{
  "nbformat": 4,
  "nbformat_minor": 0,
  "metadata": {
    "accelerator": "GPU",
    "colab": {
      "name": "MC2_1_Data_Preparation_Preprocessing_Modelling.ipynb",
      "provenance": [],
      "collapsed_sections": []
    },
    "kernelspec": {
      "display_name": "Python 3",
      "language": "python",
      "name": "python3"
    },
    "language_info": {
      "codemirror_mode": {
        "name": "ipython",
        "version": 3
      },
      "file_extension": ".py",
      "mimetype": "text/x-python",
      "name": "python",
      "nbconvert_exporter": "python",
      "pygments_lexer": "ipython3",
      "version": "3.7.3"
    }
  },
  "cells": [
    {
      "cell_type": "markdown",
      "metadata": {
        "colab_type": "text",
        "id": "y7hSVHg8nJ-d"
      },
      "source": [
        "# Mini-Challenge #2: predicting the book rating according to a review\n",
        "## Team: White Tea \n",
        "### Members: Yang Tian (Matr.-Nr.: 5074001, FU Berlin), Yu Fan (Matr.-Nr.: 5064892, FU Berlin)"
      ]
    },
    {
      "cell_type": "code",
      "metadata": {
        "colab_type": "code",
        "id": "0SCGmY03nMhL",
        "colab": {}
      },
      "source": [
        "import numpy as np\n",
        "import pandas as pd\n",
        "import matplotlib.pyplot as plt\n",
        "import tensorflow as tf\n",
        "import tensorflow_hub as hub\n",
        "\n",
        "plt.style.use('ggplot')\n",
        "%matplotlib inline"
      ],
      "execution_count": 0,
      "outputs": []
    },
    {
      "cell_type": "code",
      "metadata": {
        "colab_type": "code",
        "id": "-YWhxGV-dtkh",
        "outputId": "2101e5a6-ccda-41c7-9fd1-4ed81359430c",
        "colab": {
          "base_uri": "https://localhost:8080/",
          "height": 122
        }
      },
      "source": [
        "# loading training and test data\n",
        "from google.colab import drive\n",
        "drive.mount('/content/gdrive')\n",
        "tr_PATH = './gdrive/My Drive/DL/Projects/Book Rating/MC2.csv' # training set\n",
        "ts_PATH = './gdrive/My Drive/DL/Projects/Book Rating/MC2test.csv' # test set\n",
        "\n",
        "tr = pd.read_csv(tr_PATH).set_index('Unnamed: 0')\n",
        "ts = pd.read_csv(ts_PATH).set_index('Unnamed: 0')"
      ],
      "execution_count": 0,
      "outputs": [
        {
          "output_type": "stream",
          "text": [
            "Go to this URL in a browser: https://accounts.google.com/o/oauth2/auth?client_id=947318989803-6bn6qk8qdgf4n4g3pfee6491hc0brc4i.apps.googleusercontent.com&redirect_uri=urn%3Aietf%3Awg%3Aoauth%3A2.0%3Aoob&scope=email%20https%3A%2F%2Fwww.googleapis.com%2Fauth%2Fdocs.test%20https%3A%2F%2Fwww.googleapis.com%2Fauth%2Fdrive%20https%3A%2F%2Fwww.googleapis.com%2Fauth%2Fdrive.photos.readonly%20https%3A%2F%2Fwww.googleapis.com%2Fauth%2Fpeopleapi.readonly&response_type=code\n",
            "\n",
            "Enter your authorization code:\n",
            "··········\n",
            "Mounted at /content/gdrive\n"
          ],
          "name": "stdout"
        }
      ]
    },
    {
      "cell_type": "markdown",
      "metadata": {
        "colab_type": "text",
        "id": "sMwgTuWFfs8D"
      },
      "source": [
        "### 1. Overview of the dataset"
      ]
    },
    {
      "cell_type": "code",
      "metadata": {
        "colab_type": "code",
        "id": "g-05-nJdd2jA",
        "outputId": "823838e4-38fe-4d6f-a8d7-150f3ff6554d",
        "colab": {
          "base_uri": "https://localhost:8080/",
          "height": 798
        }
      },
      "source": [
        "tr.info()\n",
        "tr.head(10)"
      ],
      "execution_count": 0,
      "outputs": [
        {
          "output_type": "stream",
          "text": [
            "<class 'pandas.core.frame.DataFrame'>\n",
            "Int64Index: 1099209 entries, 1 to 1099209\n",
            "Data columns (total 8 columns):\n",
            "product_id           1099209 non-null object\n",
            "product_title        1099209 non-null object\n",
            "star_rating          1099209 non-null int64\n",
            "helpful_votes        1099209 non-null int64\n",
            "total_votes          1099209 non-null int64\n",
            "verified_purchase    1099209 non-null object\n",
            "review_headline      1099196 non-null object\n",
            "review_body          1099207 non-null object\n",
            "dtypes: int64(3), object(5)\n",
            "memory usage: 75.5+ MB\n"
          ],
          "name": "stdout"
        },
        {
          "output_type": "execute_result",
          "data": {
            "text/html": [
              "<div>\n",
              "<style scoped>\n",
              "    .dataframe tbody tr th:only-of-type {\n",
              "        vertical-align: middle;\n",
              "    }\n",
              "\n",
              "    .dataframe tbody tr th {\n",
              "        vertical-align: top;\n",
              "    }\n",
              "\n",
              "    .dataframe thead th {\n",
              "        text-align: right;\n",
              "    }\n",
              "</style>\n",
              "<table border=\"1\" class=\"dataframe\">\n",
              "  <thead>\n",
              "    <tr style=\"text-align: right;\">\n",
              "      <th></th>\n",
              "      <th>product_id</th>\n",
              "      <th>product_title</th>\n",
              "      <th>star_rating</th>\n",
              "      <th>helpful_votes</th>\n",
              "      <th>total_votes</th>\n",
              "      <th>verified_purchase</th>\n",
              "      <th>review_headline</th>\n",
              "      <th>review_body</th>\n",
              "    </tr>\n",
              "    <tr>\n",
              "      <th>Unnamed: 0</th>\n",
              "      <th></th>\n",
              "      <th></th>\n",
              "      <th></th>\n",
              "      <th></th>\n",
              "      <th></th>\n",
              "      <th></th>\n",
              "      <th></th>\n",
              "      <th></th>\n",
              "    </tr>\n",
              "  </thead>\n",
              "  <tbody>\n",
              "    <tr>\n",
              "      <th>1</th>\n",
              "      <td>0983797706</td>\n",
              "      <td>Igniting Your True Purpose and Passion: A Busi...</td>\n",
              "      <td>5</td>\n",
              "      <td>0</td>\n",
              "      <td>0</td>\n",
              "      <td>N</td>\n",
              "      <td>This is an inspirational and insightful book t...</td>\n",
              "      <td>This is an inspirational and insightful book t...</td>\n",
              "    </tr>\n",
              "    <tr>\n",
              "      <th>2</th>\n",
              "      <td>1423151283</td>\n",
              "      <td>The Duckling Gets a Cookie!? (Pigeon)</td>\n",
              "      <td>5</td>\n",
              "      <td>0</td>\n",
              "      <td>0</td>\n",
              "      <td>N</td>\n",
              "      <td>Loved it!</td>\n",
              "      <td>My twins are 3 and they love the pigeon books!...</td>\n",
              "    </tr>\n",
              "    <tr>\n",
              "      <th>3</th>\n",
              "      <td>1445604752</td>\n",
              "      <td>Spitfire Ace of Aces: The Wartime Story of Joh...</td>\n",
              "      <td>4</td>\n",
              "      <td>2</td>\n",
              "      <td>2</td>\n",
              "      <td>N</td>\n",
              "      <td>Engaging Account of the Combat Career of an RA...</td>\n",
              "      <td>Back in 1964, I was introduced to 'Johnnie' Jo...</td>\n",
              "    </tr>\n",
              "    <tr>\n",
              "      <th>4</th>\n",
              "      <td>0393057941</td>\n",
              "      <td>The Bread Bible</td>\n",
              "      <td>5</td>\n",
              "      <td>0</td>\n",
              "      <td>0</td>\n",
              "      <td>N</td>\n",
              "      <td>Great book for beginners</td>\n",
              "      <td>I disagree with those reviews that say this is...</td>\n",
              "    </tr>\n",
              "    <tr>\n",
              "      <th>5</th>\n",
              "      <td>1608322858</td>\n",
              "      <td>Do It Well. Make It Fun.: The Key to Success i...</td>\n",
              "      <td>3</td>\n",
              "      <td>2</td>\n",
              "      <td>2</td>\n",
              "      <td>N</td>\n",
              "      <td>Left me wanting more</td>\n",
              "      <td>Reading this book, I hoped to find more about ...</td>\n",
              "    </tr>\n",
              "    <tr>\n",
              "      <th>6</th>\n",
              "      <td>B001FVQAPW</td>\n",
              "      <td>Myth and Christianity: An Inquiry into the Pos...</td>\n",
              "      <td>5</td>\n",
              "      <td>3</td>\n",
              "      <td>3</td>\n",
              "      <td>N</td>\n",
              "      <td>A \"SEMI-DIALOGUE\" BETWEEN TWO TOWERING 20TH CE...</td>\n",
              "      <td>Rudolf Bultmann (1884-1976) was a German theol...</td>\n",
              "    </tr>\n",
              "    <tr>\n",
              "      <th>7</th>\n",
              "      <td>0307157857</td>\n",
              "      <td>Richard Scarry's Cars and Trucks and Things Th...</td>\n",
              "      <td>5</td>\n",
              "      <td>0</td>\n",
              "      <td>0</td>\n",
              "      <td>N</td>\n",
              "      <td>Best Toddler Boy Picture Book</td>\n",
              "      <td>My son has adored this book since he could sit...</td>\n",
              "    </tr>\n",
              "    <tr>\n",
              "      <th>8</th>\n",
              "      <td>0670022969</td>\n",
              "      <td>American Nations: A History of the Eleven Riva...</td>\n",
              "      <td>5</td>\n",
              "      <td>370</td>\n",
              "      <td>388</td>\n",
              "      <td>Y</td>\n",
              "      <td>Like scales falling from my eyes</td>\n",
              "      <td>Colin Woodard has written the story of North A...</td>\n",
              "    </tr>\n",
              "    <tr>\n",
              "      <th>9</th>\n",
              "      <td>193260393X</td>\n",
              "      <td>A Caregiver's Guide to Lewy Body Dementia</td>\n",
              "      <td>2</td>\n",
              "      <td>1</td>\n",
              "      <td>4</td>\n",
              "      <td>N</td>\n",
              "      <td>Disappointed and not worth the money</td>\n",
              "      <td>I was overall, very disappointed with this boo...</td>\n",
              "    </tr>\n",
              "    <tr>\n",
              "      <th>10</th>\n",
              "      <td>1461164591</td>\n",
              "      <td>Castles: A Fictional Memoir of a Girl with Sci...</td>\n",
              "      <td>5</td>\n",
              "      <td>1</td>\n",
              "      <td>1</td>\n",
              "      <td>Y</td>\n",
              "      <td>Wretlind makes reading this difficult story a joy</td>\n",
              "      <td>Often, you can tell on the first page whether ...</td>\n",
              "    </tr>\n",
              "  </tbody>\n",
              "</table>\n",
              "</div>"
            ],
            "text/plain": [
              "            product_id  ...                                        review_body\n",
              "Unnamed: 0              ...                                                   \n",
              "1           0983797706  ...  This is an inspirational and insightful book t...\n",
              "2           1423151283  ...  My twins are 3 and they love the pigeon books!...\n",
              "3           1445604752  ...  Back in 1964, I was introduced to 'Johnnie' Jo...\n",
              "4           0393057941  ...  I disagree with those reviews that say this is...\n",
              "5           1608322858  ...  Reading this book, I hoped to find more about ...\n",
              "6           B001FVQAPW  ...  Rudolf Bultmann (1884-1976) was a German theol...\n",
              "7           0307157857  ...  My son has adored this book since he could sit...\n",
              "8           0670022969  ...  Colin Woodard has written the story of North A...\n",
              "9           193260393X  ...  I was overall, very disappointed with this boo...\n",
              "10          1461164591  ...  Often, you can tell on the first page whether ...\n",
              "\n",
              "[10 rows x 8 columns]"
            ]
          },
          "metadata": {
            "tags": []
          },
          "execution_count": 3
        }
      ]
    },
    {
      "cell_type": "code",
      "metadata": {
        "colab_type": "code",
        "id": "b0sePARsXhpD",
        "outputId": "fd9d480c-3a35-4703-e4b4-074f016c7492",
        "colab": {
          "base_uri": "https://localhost:8080/",
          "height": 459
        }
      },
      "source": [
        "# Checking the Na/NaN values in the data frame\n",
        "\n",
        "def findNaN(df, sum=True):\n",
        "  if sum==True:\n",
        "    return np.sum(df.isnull())\n",
        "  else:\n",
        "    return np.where(df.isnull())\n",
        "  \n",
        "print(tr.isnull().sum(axis=0), '\\n')\n",
        "\n",
        "print(\"Total number of records: \", tr.shape[0])\n",
        "print(\"Number of records with unique product ID: \", np.unique(tr[\"product_id\"]).shape[0], \"\\n\")\n",
        "print(\"Number of Missings in the Dataset\\n\")\n",
        "print(\"Number of missings in product ID: \", findNaN(tr.product_id))\n",
        "print(\"Number of missings in Headline: \", findNaN(tr.review_headline))\n",
        "print(\"Number of missings in Body: \", findNaN(tr.review_body), \"\\n\")\n",
        "print(\"Index of missings in the Dataset\\n\")\n",
        "print(\"Index of missings in the review headline: \\n\", findNaN(tr.review_headline, False))\n",
        "print(\"Index of missings in the review body: \\n\", findNaN(tr.review_body, False))"
      ],
      "execution_count": 0,
      "outputs": [
        {
          "output_type": "stream",
          "text": [
            "product_id            0\n",
            "product_title         0\n",
            "star_rating           0\n",
            "helpful_votes         0\n",
            "total_votes           0\n",
            "verified_purchase     0\n",
            "review_headline      13\n",
            "review_body           2\n",
            "dtype: int64 \n",
            "\n",
            "Total number of records:  1099209\n",
            "Number of records with unique product ID:  540434 \n",
            "\n",
            "Number of Missings in the Dataset\n",
            "\n",
            "Number of missings in product ID:  0\n",
            "Number of missings in Headline:  13\n",
            "Number of missings in Body:  2 \n",
            "\n",
            "Index of missings in the Dataset\n",
            "\n",
            "Index of missings in the review headline: \n",
            " (array([  40304,  180433,  573567,  646587,  903807,  922540,  958151,\n",
            "        995901,  998520, 1005610, 1046110, 1049675, 1096752]),)\n",
            "Index of missings in the review body: \n",
            " (array([ 716204, 1077127]),)\n"
          ],
          "name": "stdout"
        }
      ]
    },
    {
      "cell_type": "markdown",
      "metadata": {
        "colab_type": "text",
        "id": "NKE5NQ4XlmpL"
      },
      "source": [
        "#### Since there is no overlap between NaNs in the review body and those in the review headline, it will not hurt us if we combine these two parts together before conducting word embedding. Otherwise, rows with NaNs can be deleted. "
      ]
    },
    {
      "cell_type": "markdown",
      "metadata": {
        "colab_type": "text",
        "id": "PbQOijps3lK8"
      },
      "source": [
        "#### Let's have a look at our target variable - the star rating. In total, there are 5 levels of the ratings. In the following model we will create, multiclass classification should be the right strategy and 5 classes should be predicted. Specifically, the dataset is imbalanced, where the level of \"5 star rating\" occupies about 61%."
      ]
    },
    {
      "cell_type": "code",
      "metadata": {
        "colab_type": "code",
        "id": "to7pLrr1g6bS",
        "outputId": "768d8a8c-dc37-4f6c-a590-587883021f28",
        "colab": {
          "base_uri": "https://localhost:8080/",
          "height": 486
        }
      },
      "source": [
        "# Checking the rating distribution\n",
        "\n",
        "v = pd.Series(tr['star_rating']).value_counts()\n",
        "print(v, \"\\n\")\n",
        "\n",
        "print(\"Percentage of five-star ratings: \", v.iloc[0] / v.sum())\n",
        "print(\"Percentage of positive ratings: \", v.iloc[:2].sum() / v.sum())\n",
        "print(\"Percentage of negative ratings: \", v.iloc[3:].sum() / v.sum(), \"\\n\")\n",
        "\n",
        "v.plot(kind='bar')\n",
        "plt.xlabel('# star ratings')\n",
        "plt.ylabel('count')"
      ],
      "execution_count": 0,
      "outputs": [
        {
          "output_type": "stream",
          "text": [
            "5    675734\n",
            "4    208329\n",
            "3     91574\n",
            "1     69240\n",
            "2     54332\n",
            "Name: star_rating, dtype: int64 \n",
            "\n",
            "Percentage of five-star ratings:  0.6147456944038849\n",
            "Percentage of positive ratings:  0.8042719810336342\n",
            "Percentage of negative ratings:  0.11241902131441792 \n",
            "\n"
          ],
          "name": "stdout"
        },
        {
          "output_type": "execute_result",
          "data": {
            "text/plain": [
              "Text(0, 0.5, 'count')"
            ]
          },
          "metadata": {
            "tags": []
          },
          "execution_count": 11
        },
        {
          "output_type": "display_data",
          "data": {
            "image/png": "[encoded data removed]",
            "text/plain": [
              "<Figure size 432x288 with 1 Axes>"
            ]
          },
          "metadata": {
            "tags": []
          }
        }
      ]
    },
    {
      "cell_type": "code",
      "metadata": {
        "colab_type": "code",
        "id": "Idbe30t0t7rK",
        "outputId": "e4035ad9-453e-4d9a-93d3-3e2d0bb4e945",
        "colab": {
          "base_uri": "https://localhost:8080/",
          "height": 918
        }
      },
      "source": [
        "ID = pd.Series(tr['product_id']).value_counts()\n",
        "ID.iloc[:30].plot(kind='bar')\n",
        "plt.xlabel('# product IDs')\n",
        "plt.ylabel('count')\n",
        "\n",
        "print(ID.iloc[:30], '\\n')\n",
        "print(\"The volume of top-100 best sellers ranges from {} to {}.\".format(ID.iloc[0], ID.iloc[100]), '\\n')"
      ],
      "execution_count": 0,
      "outputs": [
        {
          "output_type": "stream",
          "text": [
            "031606792X    822\n",
            "0964729237    648\n",
            "0316015849    581\n",
            "0545010225    547\n",
            "0399155341    473\n",
            "0805093079    433\n",
            "0316031844    426\n",
            "0143038257    417\n",
            "1582701709    399\n",
            "0439023513    383\n",
            "0143038419    380\n",
            "0385504225    375\n",
            "1416562850    372\n",
            "1565125606    357\n",
            "0307454541    341\n",
            "0439023521    340\n",
            "0849946158    327\n",
            "1594480001    290\n",
            "0316160202    283\n",
            "1892112000    279\n",
            "030746363X    268\n",
            "1400064163    259\n",
            "0553801473    244\n",
            "0762424931    237\n",
            "074324754X    237\n",
            "0439023491    237\n",
            "1439173249    228\n",
            "0439023483    226\n",
            "0061939897    224\n",
            "015602943X    221\n",
            "Name: product_id, dtype: int64 \n",
            "\n",
            "The volume of top-100 best sellers ranges from 822 to 111. \n",
            "\n"
          ],
          "name": "stdout"
        },
        {
          "output_type": "display_data",
          "data": {
            "image/png": "[encoded data removed]",
            "text/plain": [
              "<Figure size 432x288 with 1 Axes>"
            ]
          },
          "metadata": {
            "tags": []
          }
        }
      ]
    },
    {
      "cell_type": "markdown",
      "metadata": {
        "colab_type": "text",
        "id": "x5Har9SHWQ40"
      },
      "source": [
        "#### Since variables including helpful / total votes take place after a review is made, it hardly makes sense to use such variables in the predictive model. However, a first exploration might help us better understand our dataset."
      ]
    },
    {
      "cell_type": "code",
      "metadata": {
        "colab_type": "code",
        "id": "C4NQ6YG3w8BQ",
        "outputId": "e56fee40-d8b3-4a0b-ed9d-3b538bf75d74",
        "colab": {
          "base_uri": "https://localhost:8080/",
          "height": 867
        }
      },
      "source": [
        "hv = pd.Series(tr['helpful_votes']).value_counts()\n",
        "hv.iloc[:30].plot(kind='bar')\n",
        "plt.xlabel('# helpful votes')\n",
        "plt.ylabel('count')\n",
        "\n",
        "print(hv.iloc[:30], '\\n')\n",
        "print(\"Most reviews, i.e., {:.{prec}f} percent of them end up with less than 5 helpful votes.\".format(hv.iloc[:5].sum() / hv.sum() * 100, prec=1), '\\n')"
      ],
      "execution_count": 0,
      "outputs": [
        {
          "output_type": "stream",
          "text": [
            "0     325796\n",
            "1     219490\n",
            "2     134844\n",
            "3      89246\n",
            "4      61159\n",
            "5      44587\n",
            "6      33889\n",
            "7      26028\n",
            "8      20402\n",
            "9      16568\n",
            "10     13874\n",
            "11     11720\n",
            "12      9789\n",
            "13      8476\n",
            "14      7243\n",
            "15      6433\n",
            "16      5415\n",
            "17      4750\n",
            "18      4230\n",
            "19      3850\n",
            "20      3442\n",
            "21      2965\n",
            "22      2770\n",
            "23      2592\n",
            "24      2295\n",
            "25      2026\n",
            "26      1952\n",
            "27      1791\n",
            "28      1575\n",
            "29      1533\n",
            "Name: helpful_votes, dtype: int64 \n",
            "\n",
            "Most reviews, i.e., 75.6 percent of them end up with less than 5 helpful votes. \n",
            "\n"
          ],
          "name": "stdout"
        },
        {
          "output_type": "display_data",
          "data": {
            "image/png": "[encoded data removed]",
            "text/plain": [
              "<Figure size 432x288 with 1 Axes>"
            ]
          },
          "metadata": {
            "tags": []
          }
        }
      ]
    },
    {
      "cell_type": "code",
      "metadata": {
        "colab_type": "code",
        "id": "6SOfNhdjzKdr",
        "outputId": "42bd367a-d2c1-49ac-d929-92040a06f9fe",
        "colab": {
          "base_uri": "https://localhost:8080/",
          "height": 867
        }
      },
      "source": [
        "tv = pd.Series(tr['total_votes']).value_counts()\n",
        "tv.iloc[:30].plot(kind='bar')\n",
        "plt.xlabel('# total votes')\n",
        "plt.ylabel('count')\n",
        "\n",
        "print(tv.iloc[:30], '\\n')\n",
        "print(\"Most reviews, i.e., {:.{prec}f} percent of them end up with less than 5 total votes.\".format(tv.iloc[:5].sum() / tv.sum() * 100, prec=1), '\\n')"
      ],
      "execution_count": 0,
      "outputs": [
        {
          "output_type": "stream",
          "text": [
            "0     244560\n",
            "1     188252\n",
            "2     137370\n",
            "3      97229\n",
            "4      72455\n",
            "5      54591\n",
            "6      41680\n",
            "7      33119\n",
            "8      26725\n",
            "9      21555\n",
            "10     18245\n",
            "11     15174\n",
            "12     13232\n",
            "13     11251\n",
            "14      9750\n",
            "15      8751\n",
            "16      7497\n",
            "17      6784\n",
            "18      5943\n",
            "19      5387\n",
            "20      4854\n",
            "21      4440\n",
            "22      3920\n",
            "23      3696\n",
            "24      3355\n",
            "25      2994\n",
            "26      2863\n",
            "27      2630\n",
            "28      2400\n",
            "29      2238\n",
            "Name: total_votes, dtype: int64 \n",
            "\n",
            "Most reviews, i.e., 67.3 percent of them end up with less than 5 total votes. \n",
            "\n"
          ],
          "name": "stdout"
        },
        {
          "output_type": "display_data",
          "data": {
            "image/png": "[encoded data removed]",
            "text/plain": [
              "<Figure size 432x288 with 1 Axes>"
            ]
          },
          "metadata": {
            "tags": []
          }
        }
      ]
    },
    {
      "cell_type": "markdown",
      "metadata": {
        "colab_type": "text",
        "id": "iQKfmEev8nTP"
      },
      "source": [
        "### 2. Data Preprocessing"
      ]
    },
    {
      "cell_type": "markdown",
      "metadata": {
        "colab_type": "text",
        "id": "-I_mhQuV3-ap"
      },
      "source": [
        "#### Before the model is established, we need to preprocess the data and to make sure they are the right form as inputs feeded to the neural network."
      ]
    },
    {
      "cell_type": "code",
      "metadata": {
        "colab_type": "code",
        "id": "WeO83UHVNK43",
        "colab": {}
      },
      "source": [
        "tr = tr.dropna()\n",
        "\n",
        "tr.star_rating = tr.star_rating.astype('category')\n",
        "\n",
        "tr.verified_purchase = tr.verified_purchase.astype('category')\n",
        "ts.verified_purchase = ts.verified_purchase.astype('category')\n",
        "\n",
        "# concatenate review headline and review body to a new variable \"review\"\n",
        "tr['review'] = tr['review_headline'].str.cat(tr[['review_body']], sep='. ')\n",
        "ts['review'] = ts['review_headline'].str.cat(ts[['review_body']], sep='. ')\n",
        "\n",
        "X = tr['review'].astype(str)\n",
        "y = tr['star_rating']"
      ],
      "execution_count": 0,
      "outputs": []
    },
    {
      "cell_type": "code",
      "metadata": {
        "colab_type": "code",
        "id": "dZ9EeuSUbJ3j",
        "outputId": "d8257df5-e796-40ae-a0f5-dd30a8704f77",
        "colab": {
          "base_uri": "https://localhost:8080/",
          "height": 71
        }
      },
      "source": [
        "print('Review: ', X.values[5])\n",
        "print('Rating: ', y.iloc[5])"
      ],
      "execution_count": 0,
      "outputs": [
        {
          "output_type": "stream",
          "text": [
            "Review:  A \"SEMI-DIALOGUE\" BETWEEN TWO TOWERING 20TH CENTURY INTELLECTUAL FIGURES. Rudolf Bultmann (1884-1976) was a German theologian and professor of New Testament at the University of Marburg. He was the author of many influential books, such as [[ASIN:1565630416 The History of the Synoptic Tradition]], [[ASIN:0684143909 Jesus and the Word]], etc. Karl Jaspers (1883-1969) was a German psychiatrist and existentialist philosopher, who wrote many important books such as [[ASIN:B000S6THQE Reasons and Existenz]][[ASIN:0812210107 Philosophy of Existence]], [[ASIN:0300097352 Way to Wisdom: An Introduction to Philosophy]], [[ASIN:B0007EW69C Man in the modern age]], [[ASIN:0226394859 Future of Mankind]], etc.<br /><br />The translator notes, \\\\\"The essay 'Myth and Religion' by Dr. Jaspers ... was later published (in 1953)... Bultmann's reply first appeared (in 1954)... Dr. Jaspers' rejoinder was first published in an open letter...\\\\\"<br /><br />Jaspers argues, \\\\\"It we forget that myth is also a code language, a cipher, it loses all reference to transcendence, it becomes mere tangible presence.\\\\\" (Pg. 14) He suggests that Bultmann \\\\\"alternates between empirical, philological exegesis and a theological appropriation of religion. The two opposing goals, which are the historical investigation of religion and the primary comprehension of faith, do not add up to a convincing statement, but rather collapse for lack of tension and clarity.\\\\\" (Pg. 28)<br /><br />Bultmann replied, \\\\\"(Jaspers) is as convinced as I am that a corpse cannot come back to life or rise from the grave, that there are no demons and no magic causality. But how am I, in my capacity as pastor, to explain, in my sermons and classes, texts dealing with the Resurrection of Jesus in the flesh, with demons, or with magic causality? And how am I, in my capacity as theological scholar, to guide the pastor in his task by my interpretation?... When (Jaspers) says that the redemptive history... must 'be tested existentially and judged on the basis of ... the truth that arises from it in the reality of life,' I can only reply to such a vague statement by the question, 'Well, how is this done?'\\\\\" (Pg. 60-61)<br /><br />Jaspers then asserts in his own reply, \\\\\"you do not go far enough... I assay the differences between us in terms of the opposition between liberalism and orthodoxy, and I conclude that your position can be defined as orthodox. The actual meaning of my lecture, however, was to asert the rights of philosophy.\\\\\" (Pg. 72) He concludes, \\\\\"The greatness of Protestantism... achieves reality only in exceptional individuals... who translate into action the great moral earnestness... inherent in this faith... I see hope in the liberal faith... which as such is capable of transforming the Biblical faith in all its manifestations.\\\\\" (Pg. 114-115)<br /><br />Although one suspects that the two protagonists are often missing the other's point, this still a fascinating interplay between these two thinkers.a vague statement by the question, 'Well, how is this done?'\\\\\" (Pg. 60-61)    Jaspers then asserts in his own reply, \\\\\"you do not go far enough... I assay the differences between us in terms of the opposition between liberalism and orthodoxy, and I conclude that your position can be defined as orthodox. The actual meaning of my lecture, however, was to asert the rights of philosophy.\\\\\" (Pg. 72) He concludes, \\\\\"The greatness of Protestantism... achieves reality only in exceptional individuals... who translate into action the great moral earnestness... inherent in this faith... I see hope in the liberal faith... which as such is capable of transforming the Biblical faith in all its manifestations.\\\\\" (Pg. 114-115)    Although one suspects that the two protagonists are often missing the other's point, this still a fascinating interplay between these two thinkers.\n",
            "Rating:  5\n"
          ],
          "name": "stdout"
        }
      ]
    },
    {
      "cell_type": "markdown",
      "metadata": {
        "colab_type": "text",
        "id": "R3MHvTtWc8hY"
      },
      "source": [
        "#### There are plenty of ways to preprocess, i.e. to tokenize the text data. We will firstly use the convienient one Keras provides. \n",
        "#### The function Tokenizer() takes care not only of splitting, lowercasing and stripping special characters, but also help to keep N most common words in the data set, preventing too large input vector spaces."
      ]
    },
    {
      "cell_type": "code",
      "metadata": {
        "colab_type": "code",
        "id": "K1hAHJfAc6Fu",
        "outputId": "cf1a2719-cc05-4533-ebc8-172b7a63d439",
        "colab": {
          "base_uri": "https://localhost:8080/",
          "height": 105
        }
      },
      "source": [
        "from keras.preprocessing.text import Tokenizer\n",
        "from keras.preprocessing.sequence import pad_sequences\n",
        "\n",
        "max_words = 16000 # We will keep only the 16k most common words\n",
        "\n",
        "tokenizer = Tokenizer(num_words=max_words) \n",
        "tokenizer.fit_on_texts(X) \n",
        "sequences = tokenizer.texts_to_sequences(X) # list: string - numbers(indices)\n",
        "word_index = tokenizer.word_index # dict: word - number(index)\n",
        "\n",
        "print('Found {} unique tokens.'.format(len(word_index)))\n",
        "\n",
        "# word_index is a dictionary that maps the word to its corresponding index in the vocabulary:\n",
        "w1 = \"cat\"\n",
        "print(\"Index of\", w1, \"in the vocabulary: \", word_index[w1])\n",
        "\n",
        "# sequences is a tuple of lists denoting the corresponding indices of the words in each string (review):\n",
        "print('The indices of words in the number', sequences.index(sequences[4]),'review:', sequences[4])"
      ],
      "execution_count": 0,
      "outputs": [
        {
          "output_type": "stream",
          "text": [
            "Using TensorFlow backend.\n"
          ],
          "name": "stderr"
        },
        {
          "output_type": "stream",
          "text": [
            "Found 726132 unique tokens.\n",
            "Index of cat in the vocabulary:  1580\n",
            "The indices of words in the number 4 review: [305, 52, 921, 42, 85, 9, 10, 6, 2656, 4, 111, 42, 35, 768, 8, 66, 8, 524, 20, 814, 41, 6, 130, 17, 35, 820, 6469, 8, 1, 929, 9289, 112, 89, 52, 463, 6, 23, 276, 36, 34, 399, 307, 1, 91, 3, 5542, 99, 6518, 63, 34, 175, 4, 78, 11, 2, 81, 1986, 1275, 254, 384, 7, 503, 5, 2096, 3340, 4, 249, 5, 51, 66, 20, 61, 11, 322, 4, 403, 56, 403, 425, 42, 4, 66, 84, 62, 4940, 13, 13, 2, 317, 138, 9, 10, 305, 52, 648, 5, 229, 305, 140, 6, 110, 41, 11, 322, 140, 4, 7, 9, 174, 5, 166, 3, 4029, 12, 6, 2, 74, 227, 358, 112, 783, 15, 41, 27, 300, 16, 1, 554, 2897, 3, 66, 4940, 5101, 88, 249, 5, 254, 36, 34, 74, 227, 23, 1983, 2869, 4, 78, 203, 176, 14, 376, 1, 1019, 49, 3, 1, 185, 40, 3780, 632, 582, 349, 6, 3780, 4, 1, 1829, 2, 268, 2836, 1, 1019, 1387, 3, 5, 443, 840, 40, 806, 282, 33, 2999, 13, 13, 38, 43, 18, 21, 358, 207, 14, 5, 354, 26, 19, 53, 4, 105, 1, 91, 3, 1, 6706, 1424, 6, 144, 78, 11, 64, 105, 11, 225, 20, 43, 18, 21, 207, 14, 169, 42, 4424, 12, 81, 9350, 8, 2, 382, 634, 4029, 6, 144, 207, 2100, 506]\n"
          ],
          "name": "stdout"
        }
      ]
    },
    {
      "cell_type": "code",
      "metadata": {
        "colab_type": "code",
        "id": "6rN3VhHwg-aC",
        "outputId": "65599e4a-2a45-49bc-d2a1-afc8130b87f9",
        "colab": {
          "base_uri": "https://localhost:8080/",
          "height": 139
        }
      },
      "source": [
        "# Furthermore, we need to pad the sequences so that their lengths are the same and do not exceed a specific maximum length.\n",
        "maxlen = 256\n",
        "X = pad_sequences(sequences, maxlen=maxlen)\n",
        "\n",
        "# Transform the target \"rating\" to one-hot encoding\n",
        "from sklearn.preprocessing import OneHotEncoder\n",
        "\n",
        "y = np.asarray(y)\n",
        "onehot_encoder = OneHotEncoder(sparse=False)\n",
        "encoded = y.reshape(len(y), 1)\n",
        "Y = onehot_encoder.fit_transform(encoded)\n",
        "\n",
        "print('Shape of data tensor: ', X.shape)\n",
        "print('Shape of label tensor: ', Y.shape)"
      ],
      "execution_count": 0,
      "outputs": [
        {
          "output_type": "stream",
          "text": [
            "Shape of data tensor:  (1099194, 256)\n",
            "Shape of label tensor:  (1099194, 5)\n"
          ],
          "name": "stdout"
        },
        {
          "output_type": "stream",
          "text": [
            "/usr/local/lib/python3.6/dist-packages/sklearn/preprocessing/_encoders.py:415: FutureWarning: The handling of integer data will change in version 0.22. Currently, the categories are determined based on the range [0, max(values)], while in the future they will be determined based on the unique values.\n",
            "If you want the future behaviour and silence this warning, you can specify \"categories='auto'\".\n",
            "In case you used a LabelEncoder before this OneHotEncoder to convert the categories to integers, then you can now use the OneHotEncoder directly.\n",
            "  warnings.warn(msg, FutureWarning)\n"
          ],
          "name": "stderr"
        }
      ]
    },
    {
      "cell_type": "markdown",
      "metadata": {
        "colab_type": "text",
        "id": "eFljlxs0FAqr"
      },
      "source": [
        "### 3. Word Embedding using pre-trained GloVe"
      ]
    },
    {
      "cell_type": "markdown",
      "metadata": {
        "colab_type": "text",
        "id": "QGugJCn95SiZ"
      },
      "source": [
        "#### The next step would be associating words with vectors, which the neural network expects as its input. The use of word embeddings, which are learnt from data and contain more information as well as lower dimensions than one-hot word vectors, is a powerful way to do that. One can either use the data to learn a task-specific word embeddings, or load pre-trained word embeddings that have been precomputed. In this task, we will load pre-trained word embeddings. GloVe pre-trained word embeddings with 200 dimensions are chosen as our try."
      ]
    },
    {
      "cell_type": "code",
      "metadata": {
        "colab_type": "code",
        "id": "dho6hLqYiUw-",
        "outputId": "76798ba3-4b3b-498d-b33e-09fe138281ce",
        "colab": {
          "base_uri": "https://localhost:8080/",
          "height": 34
        }
      },
      "source": [
        "# Map words with their word representations from GloVe pre-trained word embeddings\n",
        "embeddings_index = {}\n",
        "gl_PATH = './gdrive/My Drive/DL/NLP/glove.6B.200d.txt' # pretrained GloVe\n",
        "f = open(gl_PATH)\n",
        "for line in f:\n",
        "  values = line.split()\n",
        "  word = values[0]\n",
        "  coefs = np.asarray(values[1:], dtype='float32')\n",
        "  embeddings_index[word] = coefs\n",
        "f.close()\n",
        "\n",
        "print('Found {} word vectors.'.format(len(embeddings_index)))\n",
        "\n",
        "# Create a embedding matrix for the Embedding() layer in the model, with the shape of (max_words, embedding_dim).\n",
        "embedding_dim = 200\n",
        "embedding_matrix = np.zeros((max_words, embedding_dim))\n",
        "for word, i in word_index.items(): \n",
        "  if i < max_words:\n",
        "    embedding_vector = embeddings_index.get(word) # Convert word of index i in the word_index to its word vector with 100 dimensions\n",
        "    if embedding_vector is not None:\n",
        "      embedding_matrix[i] = embedding_vector"
      ],
      "execution_count": 0,
      "outputs": [
        {
          "output_type": "stream",
          "text": [
            "Found 400000 word vectors.\n"
          ],
          "name": "stdout"
        }
      ]
    },
    {
      "cell_type": "code",
      "metadata": {
        "colab_type": "code",
        "id": "wKFV7p9xd3tM",
        "colab": {}
      },
      "source": [
        "# Split data into training, validation and test data sets.\n",
        "from sklearn.model_selection import train_test_split\n",
        "\n",
        "# train : val : test = 98 : 1 : 1\n",
        "X_train, X_val, y_train, y_val = train_test_split(X, Y, test_size=0.02, random_state=1)\n",
        "X_val, X_test, y_val, y_test = train_test_split(X_val, y_val, test_size=0.5, random_state=1)"
      ],
      "execution_count": 0,
      "outputs": []
    },
    {
      "cell_type": "markdown",
      "metadata": {
        "colab_type": "text",
        "id": "qlj-Sqdf4eLE"
      },
      "source": [
        "### 4. Building Models and Training "
      ]
    },
    {
      "cell_type": "markdown",
      "metadata": {
        "colab_type": "text",
        "id": "ZtoMIKOqdioz"
      },
      "source": [
        "### Model 0 (Baseline Model): Pre-trained 200D GloVe embedding layer with fixed weights + 1D convolutional layer + 2 GRUs, with layer normalization"
      ]
    },
    {
      "cell_type": "code",
      "metadata": {
        "colab_type": "code",
        "id": "xlY064IgooKn",
        "outputId": "0546d73d-0dd8-4c00-ec4c-337234de4421",
        "colab": {
          "base_uri": "https://localhost:8080/",
          "height": 289
        }
      },
      "source": [
        "!pip install keras-layer-normalization"
      ],
      "execution_count": 0,
      "outputs": [
        {
          "output_type": "stream",
          "text": [
            "Collecting keras-layer-normalization\n",
            "  Downloading https://files.pythonhosted.org/packages/95/76/42878fe46bff8458d8aa1da50bfdf705d632d33dbb7b60db52a06faf2dad/keras-layer-normalization-0.12.0.tar.gz\n",
            "Requirement already satisfied: numpy in /usr/local/lib/python3.6/dist-packages (from keras-layer-normalization) (1.16.4)\n",
            "Requirement already satisfied: Keras in /usr/local/lib/python3.6/dist-packages (from keras-layer-normalization) (2.2.4)\n",
            "Requirement already satisfied: six>=1.9.0 in /usr/local/lib/python3.6/dist-packages (from Keras->keras-layer-normalization) (1.12.0)\n",
            "Requirement already satisfied: pyyaml in /usr/local/lib/python3.6/dist-packages (from Keras->keras-layer-normalization) (3.13)\n",
            "Requirement already satisfied: keras-preprocessing>=1.0.5 in /usr/local/lib/python3.6/dist-packages (from Keras->keras-layer-normalization) (1.1.0)\n",
            "Requirement already satisfied: scipy>=0.14 in /usr/local/lib/python3.6/dist-packages (from Keras->keras-layer-normalization) (1.3.0)\n",
            "Requirement already satisfied: keras-applications>=1.0.6 in /usr/local/lib/python3.6/dist-packages (from Keras->keras-layer-normalization) (1.0.8)\n",
            "Requirement already satisfied: h5py in /usr/local/lib/python3.6/dist-packages (from Keras->keras-layer-normalization) (2.8.0)\n",
            "Building wheels for collected packages: keras-layer-normalization\n",
            "  Building wheel for keras-layer-normalization (setup.py) ... \u001b[?25l\u001b[?25hdone\n",
            "  Stored in directory: /root/.cache/pip/wheels/c3/9b/9e/f4072915f660e90bb3638332276f4de80476f3afcb5d010d6f\n",
            "Successfully built keras-layer-normalization\n",
            "Installing collected packages: keras-layer-normalization\n",
            "Successfully installed keras-layer-normalization-0.12.0\n"
          ],
          "name": "stdout"
        }
      ]
    },
    {
      "cell_type": "markdown",
      "metadata": {
        "colab_type": "text",
        "id": "rdT4CZslBAK7"
      },
      "source": [
        "#### Study finds that layer normalization works better for RNN architectures, since batch normalization requires sufficient amount of data points with in each batch in order to get a reliable estimate of the mean and the variance of the data. Instead, layer normalization can be Implemented on each single data point. Ba et al. (2016) find that LN accelerates the training speed of RNN models."
      ]
    },
    {
      "cell_type": "code",
      "metadata": {
        "colab_type": "code",
        "id": "IoV0lJnwtK8N",
        "outputId": "989777f5-b34b-451e-cb5f-d578baa61a6d",
        "colab": {
          "base_uri": "https://localhost:8080/",
          "height": 1000
        }
      },
      "source": [
        "import keras\n",
        "from keras.models import Sequential, Model\n",
        "from keras.layers import Embedding, LSTM, Dense, Input, Dropout, GRU, Conv1D, MaxPooling1D, BatchNormalization, Activation, concatenate\n",
        "\n",
        "from keras.regularizers import l2\n",
        "from keras.optimizers import Adam\n",
        "from keras.callbacks import EarlyStopping, ModelCheckpoint\n",
        "\n",
        "from keras_layer_normalization import LayerNormalization\n",
        "\n",
        "inputs = Input(shape=(256,), dtype='int32')\n",
        "x = Embedding(max_words, embedding_dim, input_length=maxlen)(inputs)\n",
        "\n",
        "x = Conv1D(128, \n",
        "           7,\n",
        "           kernel_regularizer=l2(0.01),\n",
        "           kernel_initializer=keras.initializers.he_normal(seed=42))(x)\n",
        "x = BatchNormalization()(x)\n",
        "x = Activation('relu')(x)\n",
        "x = MaxPooling1D(5)(x)\n",
        "cnv = Dropout(0.2)(x)\n",
        "\n",
        "x = GRU(64,\n",
        "        return_sequences=True, # to make sure the input in the next recurrent layer has the same dimensions as the original input           \n",
        "        kernel_initializer=keras.initializers.Orthogonal(seed=42), \n",
        "        dropout=0.2, \n",
        "        recurrent_dropout=0.2)(cnv)\n",
        "x = LayerNormalization()(x)\n",
        "x = GRU(64,\n",
        "        return_sequences=False,           \n",
        "        kernel_initializer=keras.initializers.Orthogonal(seed=42), \n",
        "        dropout=0.2, \n",
        "        recurrent_dropout=0.2)(x)\n",
        "x = LayerNormalization()(x)\n",
        "\n",
        "outputs = Dense(5, activation=\"softmax\")(x)\n",
        "\n",
        "model = Model(inputs=inputs, outputs=outputs)\n",
        "\n",
        "# load the pre-trained embeddings into the first Embedding layer\n",
        "model.layers[1].set_weights([embedding_matrix])\n",
        "\n",
        "# set the Embedding layer to be non-trainable, preventing the pre-trained embeddings updating in the training process\n",
        "model.layers[1].trainable = False\n",
        "\n",
        "model.summary()\n",
        "\n",
        "model.compile(optimizer=Adam(lr=0.0002),\n",
        "              loss=\"categorical_crossentropy\",\n",
        "              metrics=[\"acc\"])\n",
        "\n",
        "\n",
        "cb = EarlyStopping(monitor='val_loss', \n",
        "                   mode='min', \n",
        "                   verbose=0, \n",
        "                   patience=5,\n",
        "                   restore_best_weights=True)\n",
        "\n",
        "history = model.fit(x=X_train, \n",
        "                    y=y_train,\n",
        "                    validation_data=[X_val, y_val],\n",
        "                    epochs=99, \n",
        "                    batch_size=2000,\n",
        "                    callbacks=[cb])\n",
        "\n",
        "score = model.evaluate(X_val, y_val, verbose=0)\n",
        "print(\"Accuracy in the val. set:\", score[1])\n",
        "\n",
        "score = model.evaluate(X_test, y_test, verbose=0)\n",
        "print(\"Accuracy in the test set:\", score[1])"
      ],
      "execution_count": 0,
      "outputs": [
        {
          "output_type": "stream",
          "text": [
            "_________________________________________________________________\n",
            "Layer (type)                 Output Shape              Param #   \n",
            "=================================================================\n",
            "input_4 (InputLayer)         (None, 256)               0         \n",
            "_________________________________________________________________\n",
            "embedding_4 (Embedding)      (None, 256, 200)          3200000   \n",
            "_________________________________________________________________\n",
            "conv1d_4 (Conv1D)            (None, 250, 128)          179328    \n",
            "_________________________________________________________________\n",
            "batch_normalization_4 (Batch (None, 250, 128)          512       \n",
            "_________________________________________________________________\n",
            "activation_4 (Activation)    (None, 250, 128)          0         \n",
            "_________________________________________________________________\n",
            "max_pooling1d_4 (MaxPooling1 (None, 50, 128)           0         \n",
            "_________________________________________________________________\n",
            "dropout_4 (Dropout)          (None, 50, 128)           0         \n",
            "_________________________________________________________________\n",
            "gru_13 (GRU)                 (None, 50, 64)            37056     \n",
            "_________________________________________________________________\n",
            "layer_normalization_14 (Laye (None, 50, 64)            128       \n",
            "_________________________________________________________________\n",
            "gru_14 (GRU)                 (None, 64)                24768     \n",
            "_________________________________________________________________\n",
            "layer_normalization_15 (Laye (None, 64)                128       \n",
            "_________________________________________________________________\n",
            "dense_3 (Dense)              (None, 5)                 325       \n",
            "=================================================================\n",
            "Total params: 3,442,245\n",
            "Trainable params: 241,989\n",
            "Non-trainable params: 3,200,256\n",
            "_________________________________________________________________\n",
            "Train on 1077210 samples, validate on 10992 samples\n",
            "Epoch 1/99\n",
            "1077210/1077210 [==============================] - 172s 159us/step - loss: 1.8303 - acc: 0.6262 - val_loss: 0.9768 - val_acc: 0.6766\n",
            "Epoch 2/99\n",
            "1077210/1077210 [==============================] - 164s 152us/step - loss: 0.8960 - acc: 0.6775 - val_loss: 0.8048 - val_acc: 0.7023\n",
            "Epoch 3/99\n",
            "1077210/1077210 [==============================] - 164s 153us/step - loss: 0.8309 - acc: 0.6881 - val_loss: 0.7682 - val_acc: 0.7089\n",
            "Epoch 4/99\n",
            "1077210/1077210 [==============================] - 165s 153us/step - loss: 0.8062 - acc: 0.6942 - val_loss: 0.7675 - val_acc: 0.7125\n",
            "Epoch 5/99\n",
            "1077210/1077210 [==============================] - 164s 153us/step - loss: 0.7943 - acc: 0.6968 - val_loss: 0.7441 - val_acc: 0.7153\n",
            "Epoch 6/99\n",
            "1077210/1077210 [==============================] - 165s 153us/step - loss: 0.7830 - acc: 0.7006 - val_loss: 0.7504 - val_acc: 0.7115\n",
            "Epoch 7/99\n",
            "1077210/1077210 [==============================] - 165s 153us/step - loss: 0.7767 - acc: 0.7023 - val_loss: 0.7534 - val_acc: 0.7131\n",
            "Epoch 8/99\n",
            "1077210/1077210 [==============================] - 164s 153us/step - loss: 0.7693 - acc: 0.7046 - val_loss: 0.7323 - val_acc: 0.7183\n",
            "Epoch 9/99\n",
            "1077210/1077210 [==============================] - 164s 153us/step - loss: 0.7639 - acc: 0.7068 - val_loss: 0.7276 - val_acc: 0.7211\n",
            "Epoch 10/99\n",
            "1077210/1077210 [==============================] - 165s 153us/step - loss: 0.7604 - acc: 0.7078 - val_loss: 0.7302 - val_acc: 0.7204\n",
            "Epoch 11/99\n",
            "1077210/1077210 [==============================] - 165s 153us/step - loss: 0.7554 - acc: 0.7090 - val_loss: 0.7301 - val_acc: 0.7198\n",
            "Epoch 12/99\n",
            "1077210/1077210 [==============================] - 165s 153us/step - loss: 0.7534 - acc: 0.7101 - val_loss: 0.7214 - val_acc: 0.7259\n",
            "Epoch 13/99\n",
            "1077210/1077210 [==============================] - 164s 152us/step - loss: 0.7506 - acc: 0.7114 - val_loss: 0.7297 - val_acc: 0.7180\n",
            "Epoch 14/99\n",
            "1077210/1077210 [==============================] - 164s 152us/step - loss: 0.7476 - acc: 0.7124 - val_loss: 0.7189 - val_acc: 0.7228\n",
            "Epoch 15/99\n",
            "1077210/1077210 [==============================] - 164s 153us/step - loss: 0.7459 - acc: 0.7129 - val_loss: 0.7273 - val_acc: 0.7206\n",
            "Epoch 16/99\n",
            "1077210/1077210 [==============================] - 164s 153us/step - loss: 0.7434 - acc: 0.7138 - val_loss: 0.7133 - val_acc: 0.7254\n",
            "Epoch 17/99\n",
            "1077210/1077210 [==============================] - 165s 153us/step - loss: 0.7423 - acc: 0.7145 - val_loss: 0.7434 - val_acc: 0.7188\n",
            "Epoch 18/99\n",
            "1077210/1077210 [==============================] - 164s 152us/step - loss: 0.7405 - acc: 0.7149 - val_loss: 0.7121 - val_acc: 0.7263\n",
            "Epoch 19/99\n",
            "1077210/1077210 [==============================] - 165s 153us/step - loss: 0.7391 - acc: 0.7153 - val_loss: 0.7068 - val_acc: 0.7292\n",
            "Epoch 20/99\n",
            "1077210/1077210 [==============================] - 164s 152us/step - loss: 0.7375 - acc: 0.7162 - val_loss: 0.7027 - val_acc: 0.7278\n",
            "Epoch 21/99\n",
            "1077210/1077210 [==============================] - 165s 153us/step - loss: 0.7358 - acc: 0.7170 - val_loss: 0.7088 - val_acc: 0.7295\n",
            "Epoch 22/99\n",
            "1077210/1077210 [==============================] - 164s 152us/step - loss: 0.7348 - acc: 0.7173 - val_loss: 0.7067 - val_acc: 0.7270\n",
            "Epoch 23/99\n",
            "1077210/1077210 [==============================] - 165s 153us/step - loss: 0.7344 - acc: 0.7174 - val_loss: 0.7095 - val_acc: 0.7266\n",
            "Epoch 24/99\n",
            "1077210/1077210 [==============================] - 163s 152us/step - loss: 0.7330 - acc: 0.7177 - val_loss: 0.7005 - val_acc: 0.7310\n",
            "Epoch 25/99\n",
            "1077210/1077210 [==============================] - 164s 152us/step - loss: 0.7322 - acc: 0.7185 - val_loss: 0.7360 - val_acc: 0.7193\n",
            "Epoch 26/99\n",
            "1077210/1077210 [==============================] - 163s 151us/step - loss: 0.7310 - acc: 0.7190 - val_loss: 0.7055 - val_acc: 0.7304\n",
            "Epoch 27/99\n",
            "1077210/1077210 [==============================] - 165s 153us/step - loss: 0.7316 - acc: 0.7187 - val_loss: 0.7024 - val_acc: 0.7313\n",
            "Epoch 28/99\n",
            "1077210/1077210 [==============================] - 163s 151us/step - loss: 0.7299 - acc: 0.7193 - val_loss: 0.7038 - val_acc: 0.7311\n",
            "Epoch 29/99\n",
            "1077210/1077210 [==============================] - 163s 152us/step - loss: 0.7294 - acc: 0.7194 - val_loss: 0.7052 - val_acc: 0.7284\n",
            "Accuracy in the val. set: 0.7309861717612809\n",
            "Accuracy in the test set: 0.7286208151382824\n"
          ],
          "name": "stdout"
        }
      ]
    },
    {
      "cell_type": "markdown",
      "metadata": {
        "colab_type": "text",
        "id": "gbhkqEtnbwEV"
      },
      "source": [
        "### Model 1: Pre-trained 200D GloVe embedding layer + 1D convonlutional layer + 5 GRU layers + LSTM layer, with 1) fixed embedding weights and fine-tuning and 2) layer normalization for recurrent layers.¶\n",
        "\n",
        "#### According to our experiments, adding an additional LSTM layer makes the model performs better. The first intuition is that the hidden layers that come after are supposed to learn features that are at a higher hierachy. Thus, LSTM might be a better solution than GRU, for it entails an additional gate and thus entails more parameters. The first hidden layers, on the other hand, should learn the features from a lower hierachy, and GRUs (and the convolutional layer as well) might be more efficient than the LSTM."
      ]
    },
    {
      "cell_type": "code",
      "metadata": {
        "colab_type": "code",
        "id": "ooc2b-5Q13DC",
        "outputId": "667fb536-662b-450d-9822-8fd69c997842",
        "colab": {
          "base_uri": "https://localhost:8080/",
          "height": 867
        }
      },
      "source": [
        "inputs = Input(shape=(256,), dtype='int32')\n",
        "x = Embedding(max_words, embedding_dim, input_length=maxlen)(inputs)\n",
        "\n",
        "x = Conv1D(256, \n",
        "           7,\n",
        "           kernel_regularizer=l2(0.01),\n",
        "           kernel_initializer=keras.initializers.he_normal(seed=42))(x)\n",
        "x = BatchNormalization()(x)\n",
        "x = Activation('relu')(x)\n",
        "x = MaxPooling1D(5)(x)\n",
        "x = Dropout(0.2)(x)\n",
        "\n",
        "x = GRU(64,\n",
        "        return_sequences=True, # to make sure the input in the next recurrent layer has the same dimensions as the original input           \n",
        "        kernel_initializer=keras.initializers.Orthogonal(seed=42), \n",
        "        dropout=0.2, \n",
        "        recurrent_dropout=0.2)(x)\n",
        "x = LayerNormalization()(x)\n",
        "x = GRU(64,\n",
        "        return_sequences=True,           \n",
        "        kernel_initializer=keras.initializers.Orthogonal(seed=42), \n",
        "        dropout=0.2, \n",
        "        recurrent_dropout=0.2)(x)\n",
        "x = LayerNormalization()(x)\n",
        "x = GRU(64,\n",
        "        return_sequences=True,           \n",
        "        kernel_initializer=keras.initializers.Orthogonal(seed=42), \n",
        "        dropout=0.2, \n",
        "        recurrent_dropout=0.2)(x)\n",
        "x = LayerNormalization()(x)\n",
        "x = GRU(32,\n",
        "        return_sequences=True,           \n",
        "        kernel_initializer=keras.initializers.Orthogonal(seed=42), \n",
        "        dropout=0.2, \n",
        "        recurrent_dropout=0.2)(x)\n",
        "x = LayerNormalization()(x)\n",
        "\n",
        "x = LSTM(32,\n",
        "         return_sequences=False,           \n",
        "         kernel_initializer=keras.initializers.Orthogonal(seed=42), \n",
        "         dropout=0.2, \n",
        "         recurrent_dropout=0.2)(x)\n",
        "x = LayerNormalization()(x)\n",
        "\n",
        "outputs = Dense(5, activation=\"softmax\")(x)\n",
        "\n",
        "model = Model(inputs=inputs, outputs=outputs)\n",
        "\n",
        "# load the pre-trained embeddings into the first Embedding layer\n",
        "model.layers[1].set_weights([embedding_matrix])\n",
        "\n",
        "# set the Embedding layer to be non-trainable, preventing the pre-trained embeddings updating in the training process\n",
        "model.layers[1].trainable = False\n",
        "\n",
        "model.compile(optimizer=Adam(lr=0.0002),\n",
        "              loss=\"categorical_crossentropy\",\n",
        "              metrics=[\"acc\"])\n",
        "\n",
        "model.fit(x=X_train,\n",
        "          y=y_train,\n",
        "          validation_data=[X_val, y_val],\n",
        "          epochs=2, \n",
        "          batch_size=2000)\n",
        "\n",
        "cb = EarlyStopping(monitor='val_loss', \n",
        "                   mode='min', \n",
        "                   verbose=0, \n",
        "                   patience=5,\n",
        "                   restore_best_weights=True)\n",
        "\n",
        "# fine-tuning the pre-trained Embedding layer\n",
        "model.layers[1].trainable = True\n",
        "\n",
        "model.compile(optimizer=Adam(lr=0.0001),\n",
        "              loss=\"categorical_crossentropy\",\n",
        "              metrics=[\"acc\"])\n",
        "\n",
        "history = model.fit(x=X_train, \n",
        "                    y=y_train,\n",
        "                    validation_data=[X_val, y_val],\n",
        "                    epochs=50, \n",
        "                    batch_size=2000,\n",
        "                    callbacks=[cb])\n",
        "\n",
        "score = model.evaluate(X_val, y_val, verbose=0)\n",
        "print(\"Accuracy in the val. set:\", score[1])\n",
        "\n",
        "score = model.evaluate(X_test, y_test, verbose=0)\n",
        "print(\"Accuracy in the test set:\", score[1])"
      ],
      "execution_count": 0,
      "outputs": [
        {
          "output_type": "stream",
          "text": [
            "Train on 1077210 samples, validate on 10992 samples\n",
            "Epoch 1/2\n",
            "1077210/1077210 [==============================] - 352s 327us/step - loss: 2.2203 - acc: 0.6245 - val_loss: 0.9234 - val_acc: 0.6850\n",
            "Epoch 2/2\n",
            "1077210/1077210 [==============================] - 346s 322us/step - loss: 0.8940 - acc: 0.6755 - val_loss: 0.7941 - val_acc: 0.7073\n",
            "Train on 1077210 samples, validate on 10992 samples\n",
            "Epoch 1/50\n",
            "1077210/1077210 [==============================] - 414s 384us/step - loss: 0.8145 - acc: 0.6938 - val_loss: 0.7471 - val_acc: 0.7168\n",
            "Epoch 2/50\n",
            "1077210/1077210 [==============================] - 407s 378us/step - loss: 0.7774 - acc: 0.7044 - val_loss: 0.7250 - val_acc: 0.7233\n",
            "Epoch 3/50\n",
            "1077210/1077210 [==============================] - 407s 378us/step - loss: 0.7542 - acc: 0.7116 - val_loss: 0.7071 - val_acc: 0.7316\n",
            "Epoch 4/50\n",
            "1077210/1077210 [==============================] - 408s 378us/step - loss: 0.7384 - acc: 0.7170 - val_loss: 0.7290 - val_acc: 0.7245\n",
            "Epoch 5/50\n",
            "1077210/1077210 [==============================] - 407s 378us/step - loss: 0.7265 - acc: 0.7208 - val_loss: 0.6971 - val_acc: 0.7310\n",
            "Epoch 6/50\n",
            "1077210/1077210 [==============================] - 407s 377us/step - loss: 0.7172 - acc: 0.7240 - val_loss: 0.6932 - val_acc: 0.7355\n",
            "Epoch 7/50\n",
            "1077210/1077210 [==============================] - 408s 378us/step - loss: 0.7100 - acc: 0.7266 - val_loss: 0.7000 - val_acc: 0.7342\n",
            "Epoch 8/50\n",
            "1077210/1077210 [==============================] - 406s 377us/step - loss: 0.7025 - acc: 0.7291 - val_loss: 0.7000 - val_acc: 0.7290\n",
            "Epoch 9/50\n",
            "1077210/1077210 [==============================] - 408s 379us/step - loss: 0.6983 - acc: 0.7304 - val_loss: 0.6774 - val_acc: 0.7431\n",
            "Epoch 10/50\n",
            "1077210/1077210 [==============================] - 411s 382us/step - loss: 0.6921 - acc: 0.7326 - val_loss: 0.6895 - val_acc: 0.7350\n",
            "Epoch 11/50\n",
            "1077210/1077210 [==============================] - 411s 381us/step - loss: 0.6886 - acc: 0.7337 - val_loss: 0.6737 - val_acc: 0.7446\n",
            "Epoch 12/50\n",
            "1077210/1077210 [==============================] - 412s 383us/step - loss: 0.6842 - acc: 0.7352 - val_loss: 0.6710 - val_acc: 0.7447\n",
            "Epoch 13/50\n",
            "1077210/1077210 [==============================] - 410s 381us/step - loss: 0.6817 - acc: 0.7363 - val_loss: 0.6829 - val_acc: 0.7396\n",
            "Epoch 14/50\n",
            "1077210/1077210 [==============================] - 409s 380us/step - loss: 0.6783 - acc: 0.7374 - val_loss: 0.6761 - val_acc: 0.7412\n",
            "Epoch 15/50\n",
            "1077210/1077210 [==============================] - 412s 382us/step - loss: 0.6753 - acc: 0.7386 - val_loss: 0.6688 - val_acc: 0.7455\n",
            "Epoch 16/50\n",
            "1077210/1077210 [==============================] - 413s 383us/step - loss: 0.6724 - acc: 0.7400 - val_loss: 0.6844 - val_acc: 0.7377\n",
            "Epoch 17/50\n",
            "1077210/1077210 [==============================] - 411s 382us/step - loss: 0.6705 - acc: 0.7406 - val_loss: 0.6672 - val_acc: 0.7433\n",
            "Epoch 18/50\n",
            "1077210/1077210 [==============================] - 411s 381us/step - loss: 0.6679 - acc: 0.7414 - val_loss: 0.6678 - val_acc: 0.7424\n",
            "Epoch 19/50\n",
            "1077210/1077210 [==============================] - 414s 384us/step - loss: 0.6657 - acc: 0.7421 - val_loss: 0.6681 - val_acc: 0.7431\n",
            "Epoch 20/50\n",
            "1077210/1077210 [==============================] - 413s 384us/step - loss: 0.6637 - acc: 0.7431 - val_loss: 0.6819 - val_acc: 0.7390\n",
            "Epoch 21/50\n",
            "1077210/1077210 [==============================] - 410s 381us/step - loss: 0.6609 - acc: 0.7443 - val_loss: 0.6705 - val_acc: 0.7435\n",
            "Accuracy in the val. set: 0.7432678311499272\n",
            "Accuracy in the test set: 0.7424490538573508\n"
          ],
          "name": "stdout"
        }
      ]
    },
    {
      "cell_type": "markdown",
      "metadata": {
        "colab_type": "text",
        "id": "L6m1MlS2vrwC"
      },
      "source": [
        "### Model 2: Pre-trained 200D GloVe embedding layer + 1D convolutional layer + 5 GRU layers + LSTM layer, with 1) trainable, i.e. fine-tuned emmbedding weights and 2) layer normalization for recurrent layers."
      ]
    },
    {
      "cell_type": "code",
      "metadata": {
        "colab_type": "code",
        "id": "4RaZm1dv2HZU",
        "outputId": "4a8e60dc-7a08-4a6c-8134-4bc068f55074",
        "colab": {
          "base_uri": "https://localhost:8080/",
          "height": 1000
        }
      },
      "source": [
        "inputs = Input(shape=(256,), dtype='int32')\n",
        "x = Embedding(max_words, embedding_dim, input_length=maxlen)(inputs)\n",
        "\n",
        "x = Conv1D(256, \n",
        "           7,\n",
        "           kernel_regularizer=l2(0.01),\n",
        "           kernel_initializer=keras.initializers.he_normal(seed=42))(x)\n",
        "x = BatchNormalization()(x)\n",
        "x = Activation('relu')(x)\n",
        "x = MaxPooling1D(5)(x)\n",
        "x = Dropout(0.2)(x)\n",
        "\n",
        "x = GRU(64,\n",
        "        return_sequences=True,        \n",
        "        kernel_initializer=keras.initializers.Orthogonal(seed=42), \n",
        "        dropout=0.2, \n",
        "        recurrent_dropout=0.2)(x)\n",
        "x = LayerNormalization()(x)\n",
        "x = GRU(64,\n",
        "        return_sequences=True,           \n",
        "        kernel_initializer=keras.initializers.Orthogonal(seed=42), \n",
        "        dropout=0.2, \n",
        "        recurrent_dropout=0.2)(x)\n",
        "x = LayerNormalization()(x)\n",
        "x = GRU(64,\n",
        "        return_sequences=True,           \n",
        "        kernel_initializer=keras.initializers.Orthogonal(seed=42), \n",
        "        dropout=0.2, \n",
        "        recurrent_dropout=0.2)(x)\n",
        "x = LayerNormalization()(x)\n",
        "x = GRU(64,\n",
        "        return_sequences=True,           \n",
        "        kernel_initializer=keras.initializers.Orthogonal(seed=42), \n",
        "        dropout=0.2, \n",
        "        recurrent_dropout=0.2)(x)\n",
        "x = LayerNormalization()(x)\n",
        "x = GRU(32,\n",
        "        return_sequences=True,           \n",
        "        kernel_initializer=keras.initializers.Orthogonal(seed=42), \n",
        "        dropout=0.2, \n",
        "        recurrent_dropout=0.2)(x)\n",
        "x = LayerNormalization()(x)\n",
        "\n",
        "x = LSTM(32,\n",
        "         return_sequences=False,           \n",
        "         kernel_initializer=keras.initializers.Orthogonal(seed=42), \n",
        "         dropout=0.2, \n",
        "         recurrent_dropout=0.2)(x)\n",
        "x = LayerNormalization()(x)\n",
        "\n",
        "outputs = Dense(5, activation=\"softmax\")(x)\n",
        "\n",
        "model = Model(inputs=inputs, outputs=outputs)\n",
        "\n",
        "model.compile(optimizer=Adam(lr=0.0001),\n",
        "              loss=\"categorical_crossentropy\",\n",
        "              metrics=[\"acc\"])\n",
        "\n",
        "model.layers[1].set_weights([embedding_matrix])\n",
        "\n",
        "model.summary()\n",
        "\n",
        "cb = EarlyStopping(monitor='val_loss', \n",
        "                   mode='min', \n",
        "                   verbose=0, \n",
        "                   patience=5,\n",
        "                   restore_best_weights=True)\n",
        "\n",
        "history = model.fit(x=X_train, \n",
        "                    y=y_train,\n",
        "                    validation_data=[X_val, y_val],\n",
        "                    epochs=50, \n",
        "                    batch_size=2000,\n",
        "                    callbacks=[cb])\n",
        "\n",
        "score = model.evaluate(X_val, y_val, verbose=0)\n",
        "print(\"Accuracy in the val. set:\", score[1])\n",
        "\n",
        "score = model.evaluate(X_test, y_test, verbose=0)\n",
        "print(\"Accuracy in the test set:\", score[1])"
      ],
      "execution_count": 0,
      "outputs": [
        {
          "output_type": "stream",
          "text": [
            "_________________________________________________________________\n",
            "Layer (type)                 Output Shape              Param #   \n",
            "=================================================================\n",
            "input_3 (InputLayer)         (None, 256)               0         \n",
            "_________________________________________________________________\n",
            "embedding_3 (Embedding)      (None, 256, 200)          2000000   \n",
            "_________________________________________________________________\n",
            "conv1d_3 (Conv1D)            (None, 250, 256)          358656    \n",
            "_________________________________________________________________\n",
            "batch_normalization_3 (Batch (None, 250, 256)          1024      \n",
            "_________________________________________________________________\n",
            "activation_3 (Activation)    (None, 250, 256)          0         \n",
            "_________________________________________________________________\n",
            "max_pooling1d_3 (MaxPooling1 (None, 50, 256)           0         \n",
            "_________________________________________________________________\n",
            "dropout_3 (Dropout)          (None, 50, 256)           0         \n",
            "_________________________________________________________________\n",
            "gru_11 (GRU)                 (None, 50, 64)            61632     \n",
            "_________________________________________________________________\n",
            "layer_normalization_13 (Laye (None, 50, 64)            128       \n",
            "_________________________________________________________________\n",
            "gru_12 (GRU)                 (None, 50, 64)            24768     \n",
            "_________________________________________________________________\n",
            "layer_normalization_14 (Laye (None, 50, 64)            128       \n",
            "_________________________________________________________________\n",
            "gru_13 (GRU)                 (None, 50, 64)            24768     \n",
            "_________________________________________________________________\n",
            "layer_normalization_15 (Laye (None, 50, 64)            128       \n",
            "_________________________________________________________________\n",
            "gru_14 (GRU)                 (None, 50, 64)            24768     \n",
            "_________________________________________________________________\n",
            "layer_normalization_16 (Laye (None, 50, 64)            128       \n",
            "_________________________________________________________________\n",
            "gru_15 (GRU)                 (None, 50, 32)            9312      \n",
            "_________________________________________________________________\n",
            "layer_normalization_17 (Laye (None, 50, 32)            64        \n",
            "_________________________________________________________________\n",
            "lstm_3 (LSTM)                (None, 32)                8320      \n",
            "_________________________________________________________________\n",
            "layer_normalization_18 (Laye (None, 32)                64        \n",
            "_________________________________________________________________\n",
            "dense_3 (Dense)              (None, 5)                 165       \n",
            "=================================================================\n",
            "Total params: 2,514,053\n",
            "Trainable params: 2,513,541\n",
            "Non-trainable params: 512\n",
            "_________________________________________________________________\n",
            "Train on 1077210 samples, validate on 10992 samples\n",
            "Epoch 1/50\n",
            "1077210/1077210 [==============================] - 867s 805us/step - loss: 3.2891 - acc: 0.6072 - val_loss: 1.4890 - val_acc: 0.6372\n",
            "Epoch 2/50\n",
            "1077210/1077210 [==============================] - 865s 803us/step - loss: 1.1385 - acc: 0.6469 - val_loss: 0.8711 - val_acc: 0.6888\n",
            "Epoch 3/50\n",
            "1077210/1077210 [==============================] - 867s 805us/step - loss: 0.8670 - acc: 0.6831 - val_loss: 0.7742 - val_acc: 0.7122\n",
            "Epoch 4/50\n",
            "1077210/1077210 [==============================] - 869s 807us/step - loss: 0.8002 - acc: 0.6989 - val_loss: 0.7543 - val_acc: 0.7134\n",
            "Epoch 5/50\n",
            "1077210/1077210 [==============================] - 864s 802us/step - loss: 0.7697 - acc: 0.7066 - val_loss: 0.7232 - val_acc: 0.7248\n",
            "Epoch 6/50\n",
            "1077210/1077210 [==============================] - 864s 802us/step - loss: 0.7513 - acc: 0.7123 - val_loss: 0.7386 - val_acc: 0.7202\n",
            "Epoch 7/50\n",
            "1077210/1077210 [==============================] - 865s 803us/step - loss: 0.7375 - acc: 0.7165 - val_loss: 0.7000 - val_acc: 0.7297\n",
            "Epoch 8/50\n",
            "1077210/1077210 [==============================] - 861s 799us/step - loss: 0.7267 - acc: 0.7197 - val_loss: 0.6932 - val_acc: 0.7333\n",
            "Epoch 9/50\n",
            "1077210/1077210 [==============================] - 866s 804us/step - loss: 0.7181 - acc: 0.7231 - val_loss: 0.6906 - val_acc: 0.7369\n",
            "Epoch 10/50\n",
            "1077210/1077210 [==============================] - 866s 804us/step - loss: 0.7124 - acc: 0.7244 - val_loss: 0.6980 - val_acc: 0.7295\n",
            "Epoch 11/50\n",
            "1077210/1077210 [==============================] - 866s 804us/step - loss: 0.7064 - acc: 0.7270 - val_loss: 0.6935 - val_acc: 0.7318\n",
            "Epoch 12/50\n",
            "1077210/1077210 [==============================] - 872s 809us/step - loss: 0.7011 - acc: 0.7288 - val_loss: 0.6835 - val_acc: 0.7380\n",
            "Epoch 13/50\n",
            "1077210/1077210 [==============================] - 866s 804us/step - loss: 0.6974 - acc: 0.7302 - val_loss: 0.6772 - val_acc: 0.7381\n",
            "Epoch 14/50\n",
            "1077210/1077210 [==============================] - 867s 805us/step - loss: 0.6930 - acc: 0.7313 - val_loss: 0.6783 - val_acc: 0.7380\n",
            "Epoch 15/50\n",
            "1077210/1077210 [==============================] - 867s 805us/step - loss: 0.6900 - acc: 0.7328 - val_loss: 0.6790 - val_acc: 0.7419\n",
            "Epoch 16/50\n",
            "1077210/1077210 [==============================] - 870s 807us/step - loss: 0.6861 - acc: 0.7341 - val_loss: 0.6780 - val_acc: 0.7389\n",
            "Epoch 17/50\n",
            "1077210/1077210 [==============================] - 868s 806us/step - loss: 0.6834 - acc: 0.7348 - val_loss: 0.6758 - val_acc: 0.7395\n",
            "Epoch 18/50\n",
            "1077210/1077210 [==============================] - 868s 806us/step - loss: 0.6821 - acc: 0.7358 - val_loss: 0.7038 - val_acc: 0.7293\n",
            "Epoch 19/50\n",
            "1077210/1077210 [==============================] - 869s 807us/step - loss: 0.6783 - acc: 0.7371 - val_loss: 0.6787 - val_acc: 0.7399\n",
            "Epoch 20/50\n",
            "1077210/1077210 [==============================] - 873s 811us/step - loss: 0.6764 - acc: 0.7380 - val_loss: 0.6662 - val_acc: 0.7427\n",
            "Epoch 21/50\n",
            "1077210/1077210 [==============================] - 871s 808us/step - loss: 0.6748 - acc: 0.7380 - val_loss: 0.6883 - val_acc: 0.7353\n",
            "Epoch 22/50\n",
            "1077210/1077210 [==============================] - 869s 807us/step - loss: 0.6718 - acc: 0.7398 - val_loss: 0.6775 - val_acc: 0.7403\n",
            "Epoch 23/50\n",
            "1077210/1077210 [==============================] - 867s 805us/step - loss: 0.6702 - acc: 0.7400 - val_loss: 0.6847 - val_acc: 0.7362\n",
            "Epoch 24/50\n",
            "1077210/1077210 [==============================] - 870s 807us/step - loss: 0.6690 - acc: 0.7411 - val_loss: 0.6661 - val_acc: 0.7422\n",
            "Epoch 25/50\n",
            "1077210/1077210 [==============================] - 870s 808us/step - loss: 0.6664 - acc: 0.7420 - val_loss: 0.6764 - val_acc: 0.7405\n",
            "Epoch 26/50\n",
            "1077210/1077210 [==============================] - 870s 808us/step - loss: 0.6655 - acc: 0.7422 - val_loss: 0.6676 - val_acc: 0.7431\n",
            "Epoch 27/50\n",
            "1077210/1077210 [==============================] - 872s 809us/step - loss: 0.6633 - acc: 0.7430 - val_loss: 0.6879 - val_acc: 0.7366\n",
            "Epoch 28/50\n",
            "1077210/1077210 [==============================] - 872s 810us/step - loss: 0.6619 - acc: 0.7439 - val_loss: 0.6670 - val_acc: 0.7453\n",
            "Epoch 29/50\n",
            "1077210/1077210 [==============================] - 868s 806us/step - loss: 0.6604 - acc: 0.7442 - val_loss: 0.6678 - val_acc: 0.7447\n",
            "Accuracy in the val. set: 0.7421761280931587\n",
            "Accuracy in the test set: 0.7438136826783115\n"
          ],
          "name": "stdout"
        }
      ]
    },
    {
      "cell_type": "markdown",
      "metadata": {
        "colab_type": "text",
        "id": "l3nFTDnmvw-K"
      },
      "source": [
        "### Model 3: RNN structure with residual connection: fixed 200D GloVe embedding + 1D convolutional layer + 5 GRU layers + LSTM layer, with a connection between the convolutional layer and the LSTM layer.\n",
        "\n",
        "#### In our 3. and 4. model, we tried to add an residual connection between the hidden layers. This is inspired by He et al. (2015), in whose design some hidden layers can be skipped in case feature representations at lower level have sufficient predictive power."
      ]
    },
    {
      "cell_type": "code",
      "metadata": {
        "colab_type": "code",
        "id": "mpNW7ptH2SPA",
        "outputId": "d656ba5b-1e82-4c7f-d88c-c12af074f8e0",
        "colab": {
          "base_uri": "https://localhost:8080/",
          "height": 1000
        }
      },
      "source": [
        "inputs = Input(shape=(256,), dtype='int32')\n",
        "x = Embedding(max_words, embedding_dim, input_length=maxlen)(inputs)\n",
        "\n",
        "x = Conv1D(256, \n",
        "           7,\n",
        "           kernel_regularizer=l2(0.01),\n",
        "           kernel_initializer=keras.initializers.he_normal(seed=42))(x)\n",
        "x = BatchNormalization()(x)\n",
        "x = Activation('relu')(x)\n",
        "x = MaxPooling1D(5)(x)\n",
        "cnv = Dropout(0.2)(x)\n",
        "\n",
        "x = GRU(64,\n",
        "        return_sequences=True,     \n",
        "        kernel_initializer=keras.initializers.Orthogonal(seed=42), \n",
        "        dropout=0.2, \n",
        "        recurrent_dropout=0.2)(cnv)\n",
        "x = LayerNormalization()(x)\n",
        "x = GRU(64,\n",
        "        return_sequences=True,           \n",
        "        kernel_initializer=keras.initializers.Orthogonal(seed=42), \n",
        "        dropout=0.2, \n",
        "        recurrent_dropout=0.2)(x)\n",
        "x = LayerNormalization()(x)\n",
        "x = GRU(64,\n",
        "        return_sequences=True,           \n",
        "        kernel_initializer=keras.initializers.Orthogonal(seed=42), \n",
        "        dropout=0.2, \n",
        "        recurrent_dropout=0.2)(x)\n",
        "x = LayerNormalization()(x)\n",
        "x = GRU(64,\n",
        "        return_sequences=True,           \n",
        "        kernel_initializer=keras.initializers.Orthogonal(seed=42), \n",
        "        dropout=0.2, \n",
        "        recurrent_dropout=0.2)(x)\n",
        "x = LayerNormalization()(x)\n",
        "x = GRU(64,\n",
        "        return_sequences=True,           \n",
        "        kernel_initializer=keras.initializers.Orthogonal(seed=42), \n",
        "        dropout=0.2, \n",
        "        recurrent_dropout=0.2)(x)\n",
        "x = LayerNormalization()(x)\n",
        "\n",
        "x = concatenate([cnv, x])\n",
        "\n",
        "x = LSTM(64,\n",
        "         return_sequences=False,           \n",
        "         kernel_initializer=keras.initializers.Orthogonal(seed=42), \n",
        "         dropout=0.2, \n",
        "         recurrent_dropout=0.2)(x)\n",
        "x = LayerNormalization()(x)\n",
        "\n",
        "outputs = Dense(5, activation=\"softmax\")(x)\n",
        "\n",
        "model = Model(inputs=inputs, outputs=outputs)\n",
        "\n",
        "model.compile(optimizer=Adam(lr=0.0002),\n",
        "              loss=\"categorical_crossentropy\",\n",
        "              metrics=[\"acc\"])\n",
        "\n",
        "model.layers[1].set_weights([embedding_matrix])\n",
        "\n",
        "model.summary()\n",
        "\n",
        "model.layers[1].trainable = False\n",
        "\n",
        "model.fit(x=X_train, \n",
        "          y=y_train,\n",
        "          validation_data=[X_val, y_val],\n",
        "          epochs=5,\n",
        "          batch_size=2000)\n",
        "\n",
        "model.compile(optimizer=Adam(lr=0.0001),\n",
        "              loss=\"categorical_crossentropy\",\n",
        "              metrics=[\"acc\"])\n",
        "\n",
        "\n",
        "cb = EarlyStopping(monitor='val_loss', \n",
        "                   mode='min', \n",
        "                   verbose=0, \n",
        "                   patience=5,\n",
        "                   restore_best_weights=True)\n",
        "\n",
        "history = model.fit(x=X_train, \n",
        "                    y=y_train,\n",
        "                    validation_data=[X_val, y_val],\n",
        "                    epochs=50, \n",
        "                    batch_size=2000,\n",
        "                    callbacks=[cb])\n",
        "\n",
        "score = model.evaluate(X_val, y_val, verbose=0)\n",
        "print(\"Accuracy in the val. set:\", score[1])\n",
        "\n",
        "score = model.evaluate(X_test, y_test, verbose=0)\n",
        "print(\"Accuracy in the test set:\", score[1])"
      ],
      "execution_count": 0,
      "outputs": [
        {
          "output_type": "stream",
          "text": [
            "W0630 07:05:17.601340 140393608140672 deprecation_wrapper.py:119] From /usr/local/lib/python3.6/dist-packages/keras/optimizers.py:790: The name tf.train.Optimizer is deprecated. Please use tf.compat.v1.train.Optimizer instead.\n",
            "\n"
          ],
          "name": "stderr"
        },
        {
          "output_type": "stream",
          "text": [
            "__________________________________________________________________________________________________\n",
            "Layer (type)                    Output Shape         Param #     Connected to                     \n",
            "==================================================================================================\n",
            "input_2 (InputLayer)            (None, 256)          0                                            \n",
            "__________________________________________________________________________________________________\n",
            "embedding_2 (Embedding)         (None, 256, 200)     3200000     input_2[0][0]                    \n",
            "__________________________________________________________________________________________________\n",
            "conv1d_2 (Conv1D)               (None, 250, 256)     358656      embedding_2[0][0]                \n",
            "__________________________________________________________________________________________________\n",
            "batch_normalization_2 (BatchNor (None, 250, 256)     1024        conv1d_2[0][0]                   \n",
            "__________________________________________________________________________________________________\n",
            "activation_2 (Activation)       (None, 250, 256)     0           batch_normalization_2[0][0]      \n",
            "__________________________________________________________________________________________________\n",
            "max_pooling1d_2 (MaxPooling1D)  (None, 50, 256)      0           activation_2[0][0]               \n",
            "__________________________________________________________________________________________________\n",
            "dropout_2 (Dropout)             (None, 50, 256)      0           max_pooling1d_2[0][0]            \n",
            "__________________________________________________________________________________________________\n",
            "gru_6 (GRU)                     (None, 50, 64)       61632       dropout_2[0][0]                  \n",
            "__________________________________________________________________________________________________\n",
            "layer_normalization_6 (LayerNor (None, 50, 64)       128         gru_6[0][0]                      \n",
            "__________________________________________________________________________________________________\n",
            "gru_7 (GRU)                     (None, 50, 64)       24768       layer_normalization_6[0][0]      \n",
            "__________________________________________________________________________________________________\n",
            "layer_normalization_7 (LayerNor (None, 50, 64)       128         gru_7[0][0]                      \n",
            "__________________________________________________________________________________________________\n",
            "gru_8 (GRU)                     (None, 50, 64)       24768       layer_normalization_7[0][0]      \n",
            "__________________________________________________________________________________________________\n",
            "layer_normalization_8 (LayerNor (None, 50, 64)       128         gru_8[0][0]                      \n",
            "__________________________________________________________________________________________________\n",
            "gru_9 (GRU)                     (None, 50, 64)       24768       layer_normalization_8[0][0]      \n",
            "__________________________________________________________________________________________________\n",
            "layer_normalization_9 (LayerNor (None, 50, 64)       128         gru_9[0][0]                      \n",
            "__________________________________________________________________________________________________\n",
            "gru_10 (GRU)                    (None, 50, 64)       24768       layer_normalization_9[0][0]      \n",
            "__________________________________________________________________________________________________\n",
            "layer_normalization_10 (LayerNo (None, 50, 64)       128         gru_10[0][0]                     \n",
            "__________________________________________________________________________________________________\n",
            "concatenate_1 (Concatenate)     (None, 50, 320)      0           dropout_2[0][0]                  \n",
            "                                                                 layer_normalization_10[0][0]     \n",
            "__________________________________________________________________________________________________\n",
            "lstm_1 (LSTM)                   (None, 64)           98560       concatenate_1[0][0]              \n",
            "__________________________________________________________________________________________________\n",
            "layer_normalization_11 (LayerNo (None, 64)           128         lstm_1[0][0]                     \n",
            "__________________________________________________________________________________________________\n",
            "dense_1 (Dense)                 (None, 5)            325         layer_normalization_11[0][0]     \n",
            "==================================================================================================\n",
            "Total params: 3,820,037\n",
            "Trainable params: 3,819,525\n",
            "Non-trainable params: 512\n",
            "__________________________________________________________________________________________________\n"
          ],
          "name": "stdout"
        },
        {
          "output_type": "stream",
          "text": [
            "/usr/local/lib/python3.6/dist-packages/keras/engine/training.py:490: UserWarning: Discrepancy between trainable weights and collected trainable weights, did you set `model.trainable` without calling `model.compile` after ?\n",
            "  'Discrepancy between trainable weights and collected trainable'\n",
            "W0630 07:05:21.791081 140393608140672 deprecation.py:323] From /usr/local/lib/python3.6/dist-packages/tensorflow/python/ops/math_grad.py:1250: add_dispatch_support.<locals>.wrapper (from tensorflow.python.ops.array_ops) is deprecated and will be removed in a future version.\n",
            "Instructions for updating:\n",
            "Use tf.where in 2.0, which has the same broadcast rule as np.where\n"
          ],
          "name": "stderr"
        },
        {
          "output_type": "stream",
          "text": [
            "Train on 1077210 samples, validate on 10992 samples\n",
            "Epoch 1/5\n",
            "1077210/1077210 [==============================] - 472s 438us/step - loss: 2.3756 - acc: 0.6412 - val_loss: 0.9312 - val_acc: 0.6950\n",
            "Epoch 2/5\n",
            "1077210/1077210 [==============================] - 460s 427us/step - loss: 0.8422 - acc: 0.6987 - val_loss: 0.7605 - val_acc: 0.7222\n",
            "Epoch 3/5\n",
            "1077210/1077210 [==============================] - 458s 425us/step - loss: 0.7634 - acc: 0.7130 - val_loss: 0.7267 - val_acc: 0.7274\n",
            "Epoch 4/5\n",
            "1077210/1077210 [==============================] - 458s 425us/step - loss: 0.7355 - acc: 0.7204 - val_loss: 0.7113 - val_acc: 0.7293\n",
            "Epoch 5/5\n",
            "1077210/1077210 [==============================] - 458s 425us/step - loss: 0.7174 - acc: 0.7255 - val_loss: 0.7023 - val_acc: 0.7331\n",
            "Train on 1077210 samples, validate on 10992 samples\n",
            "Epoch 1/50\n",
            "1077210/1077210 [==============================] - 411s 381us/step - loss: 0.6950 - acc: 0.7318 - val_loss: 0.6880 - val_acc: 0.7355\n",
            "Epoch 2/50\n",
            "1077210/1077210 [==============================] - 402s 373us/step - loss: 0.6862 - acc: 0.7339 - val_loss: 0.6805 - val_acc: 0.7384\n",
            "Epoch 3/50\n",
            "1077210/1077210 [==============================] - 403s 374us/step - loss: 0.6825 - acc: 0.7357 - val_loss: 0.6836 - val_acc: 0.7384\n",
            "Epoch 4/50\n",
            "1077210/1077210 [==============================] - 404s 375us/step - loss: 0.6785 - acc: 0.7365 - val_loss: 0.6716 - val_acc: 0.7424\n",
            "Epoch 5/50\n",
            "1077210/1077210 [==============================] - 405s 376us/step - loss: 0.6765 - acc: 0.7373 - val_loss: 0.6881 - val_acc: 0.7324\n",
            "Epoch 6/50\n",
            "1077210/1077210 [==============================] - 404s 375us/step - loss: 0.6747 - acc: 0.7378 - val_loss: 0.6856 - val_acc: 0.7358\n",
            "Epoch 7/50\n",
            "1077210/1077210 [==============================] - 404s 375us/step - loss: 0.6731 - acc: 0.7382 - val_loss: 0.6677 - val_acc: 0.7432\n",
            "Epoch 8/50\n",
            "1077210/1077210 [==============================] - 405s 376us/step - loss: 0.6701 - acc: 0.7393 - val_loss: 0.6671 - val_acc: 0.7421\n",
            "Epoch 9/50\n",
            "1077210/1077210 [==============================] - 404s 375us/step - loss: 0.6685 - acc: 0.7402 - val_loss: 0.6669 - val_acc: 0.7416\n",
            "Epoch 10/50\n",
            "1077210/1077210 [==============================] - 403s 374us/step - loss: 0.6676 - acc: 0.7402 - val_loss: 0.6633 - val_acc: 0.7425\n",
            "Epoch 11/50\n",
            "1077210/1077210 [==============================] - 405s 376us/step - loss: 0.6662 - acc: 0.7410 - val_loss: 0.6834 - val_acc: 0.7373\n",
            "Epoch 12/50\n",
            "1077210/1077210 [==============================] - 403s 374us/step - loss: 0.6646 - acc: 0.7417 - val_loss: 0.6713 - val_acc: 0.7414\n",
            "Epoch 13/50\n",
            "1077210/1077210 [==============================] - 403s 374us/step - loss: 0.6631 - acc: 0.7424 - val_loss: 0.6820 - val_acc: 0.7365\n",
            "Epoch 14/50\n",
            "1077210/1077210 [==============================] - 404s 375us/step - loss: 0.6624 - acc: 0.7422 - val_loss: 0.6757 - val_acc: 0.7404\n",
            "Epoch 15/50\n",
            "1077210/1077210 [==============================] - 403s 374us/step - loss: 0.6608 - acc: 0.7435 - val_loss: 0.6603 - val_acc: 0.7451\n",
            "Epoch 16/50\n",
            "1077210/1077210 [==============================] - 403s 374us/step - loss: 0.6607 - acc: 0.7437 - val_loss: 0.6697 - val_acc: 0.7404\n",
            "Epoch 17/50\n",
            "1077210/1077210 [==============================] - 404s 375us/step - loss: 0.6597 - acc: 0.7438 - val_loss: 0.6623 - val_acc: 0.7463\n",
            "Epoch 18/50\n",
            "1077210/1077210 [==============================] - 404s 375us/step - loss: 0.6576 - acc: 0.7445 - val_loss: 0.6646 - val_acc: 0.7439\n",
            "Epoch 19/50\n",
            "1077210/1077210 [==============================] - 403s 374us/step - loss: 0.6568 - acc: 0.7451 - val_loss: 0.6621 - val_acc: 0.7445\n",
            "Epoch 20/50\n",
            "1077210/1077210 [==============================] - 403s 374us/step - loss: 0.6561 - acc: 0.7452 - val_loss: 0.6675 - val_acc: 0.7458\n",
            "Accuracy in the val. set: 0.7450873362445415\n",
            "Accuracy in the test set: 0.7445414847161572\n"
          ],
          "name": "stdout"
        }
      ]
    },
    {
      "cell_type": "markdown",
      "metadata": {
        "colab_type": "text",
        "id": "SDS_WVpRvyxj"
      },
      "source": [
        "### Model 4: RNN structure with residual connection: pre-trained 200D GloVe embedding layer + 1D convonlutional layer + 5 GRU layers + LSTM layer, with 1) fixed embedding weights and fine-tuning,  2) layer normalization for recurrent layers and 3) a connection between the convolutional layer and the last GRU layer, followed by an additional LSTM layer.\n"
      ]
    },
    {
      "cell_type": "code",
      "metadata": {
        "colab_type": "code",
        "id": "1e8jjIEiWLFj",
        "outputId": "9c177156-0bb9-484b-da50-6816cba1abf4",
        "colab": {
          "base_uri": "https://localhost:8080/",
          "height": 1000
        }
      },
      "source": [
        "inputs = Input(shape=(256,), dtype='int32')\n",
        "x = Embedding(max_words, embedding_dim, input_length=maxlen)(inputs)\n",
        "\n",
        "x = Conv1D(256, \n",
        "           7,\n",
        "           kernel_regularizer=l2(0.01),\n",
        "           kernel_initializer=keras.initializers.he_normal(seed=42))(x)\n",
        "x = BatchNormalization()(x)\n",
        "x = Activation('relu')(x)\n",
        "x = MaxPooling1D(5)(x)\n",
        "cnv = Dropout(0.2)(x)\n",
        "\n",
        "x = GRU(64,\n",
        "        return_sequences=True,        \n",
        "        kernel_initializer=keras.initializers.Orthogonal(seed=42), \n",
        "        dropout=0.2, \n",
        "        recurrent_dropout=0.2)(cnv)\n",
        "x = LayerNormalization()(x)\n",
        "x = GRU(64,\n",
        "        return_sequences=True,           \n",
        "        kernel_initializer=keras.initializers.Orthogonal(seed=42), \n",
        "        dropout=0.2, \n",
        "        recurrent_dropout=0.2)(x)\n",
        "x = LayerNormalization()(x)\n",
        "x = GRU(64,\n",
        "        return_sequences=True,           \n",
        "        kernel_initializer=keras.initializers.Orthogonal(seed=42), \n",
        "        dropout=0.2, \n",
        "        recurrent_dropout=0.2)(x)\n",
        "x = LayerNormalization()(x)\n",
        "\n",
        "x = concatenate([cnv, x])\n",
        "\n",
        "x = GRU(32,\n",
        "        return_sequences=True,           \n",
        "        kernel_initializer=keras.initializers.Orthogonal(seed=42), \n",
        "        dropout=0.2, \n",
        "        recurrent_dropout=0.2)(x)\n",
        "x = LayerNormalization()(x)\n",
        "\n",
        "x = LSTM(32,\n",
        "         return_sequences=False,           \n",
        "         kernel_initializer=keras.initializers.Orthogonal(seed=42), \n",
        "         dropout=0.2, \n",
        "         recurrent_dropout=0.2)(x)\n",
        "x = LayerNormalization()(x)\n",
        "\n",
        "outputs = Dense(5, activation=\"softmax\")(x)\n",
        "\n",
        "model = Model(inputs=inputs, outputs=outputs)\n",
        "\n",
        "model.summary()\n",
        "\n",
        "model.layers[1].set_weights([embedding_matrix])\n",
        "\n",
        "model.layers[1].trainable = False\n",
        "\n",
        "model.compile(optimizer=Adam(lr=0.0002),\n",
        "              loss=\"categorical_crossentropy\",\n",
        "              metrics=[\"acc\"])\n",
        "\n",
        "model.fit(x=X_train,\n",
        "          y=y_train,\n",
        "          validation_data=[X_val, y_val],\n",
        "          epochs=5, \n",
        "          batch_size=2000)\n",
        "\n",
        "cb = EarlyStopping(monitor='val_loss', \n",
        "                   mode='min', \n",
        "                   verbose=0, \n",
        "                   patience=5,\n",
        "                   restore_best_weights=True)\n",
        "\n",
        "model.layers[1].trainable = True\n",
        "\n",
        "model.compile(optimizer=Adam(lr=0.0001),\n",
        "              loss=\"categorical_crossentropy\",\n",
        "              metrics=[\"acc\"])\n",
        "\n",
        "history = model.fit(x=X_train, \n",
        "                    y=y_train,\n",
        "                    validation_data=[X_val, y_val],\n",
        "                    epochs=50, \n",
        "                    batch_size=2000,\n",
        "                    callbacks=[cb])\n",
        "\n",
        "score = model.evaluate(X_val, y_val, verbose=0)\n",
        "print(\"Accuracy in the val. set:\", score[1])\n",
        "\n",
        "score = model.evaluate(X_test, y_test, verbose=0)\n",
        "print(\"Accuracy in the test set:\", score[1])"
      ],
      "execution_count": 0,
      "outputs": [
        {
          "output_type": "stream",
          "text": [
            "__________________________________________________________________________________________________\n",
            "Layer (type)                    Output Shape         Param #     Connected to                     \n",
            "==================================================================================================\n",
            "input_2 (InputLayer)            (None, 256)          0                                            \n",
            "__________________________________________________________________________________________________\n",
            "embedding_2 (Embedding)         (None, 256, 200)     3200000     input_2[0][0]                    \n",
            "__________________________________________________________________________________________________\n",
            "conv1d_2 (Conv1D)               (None, 250, 256)     358656      embedding_2[0][0]                \n",
            "__________________________________________________________________________________________________\n",
            "batch_normalization_2 (BatchNor (None, 250, 256)     1024        conv1d_2[0][0]                   \n",
            "__________________________________________________________________________________________________\n",
            "activation_2 (Activation)       (None, 250, 256)     0           batch_normalization_2[0][0]      \n",
            "__________________________________________________________________________________________________\n",
            "max_pooling1d_2 (MaxPooling1D)  (None, 50, 256)      0           activation_2[0][0]               \n",
            "__________________________________________________________________________________________________\n",
            "dropout_2 (Dropout)             (None, 50, 256)      0           max_pooling1d_2[0][0]            \n",
            "__________________________________________________________________________________________________\n",
            "gru_5 (GRU)                     (None, 50, 64)       61632       dropout_2[0][0]                  \n",
            "__________________________________________________________________________________________________\n",
            "layer_normalization_6 (LayerNor (None, 50, 64)       128         gru_5[0][0]                      \n",
            "__________________________________________________________________________________________________\n",
            "gru_6 (GRU)                     (None, 50, 64)       24768       layer_normalization_6[0][0]      \n",
            "__________________________________________________________________________________________________\n",
            "layer_normalization_7 (LayerNor (None, 50, 64)       128         gru_6[0][0]                      \n",
            "__________________________________________________________________________________________________\n",
            "gru_7 (GRU)                     (None, 50, 64)       24768       layer_normalization_7[0][0]      \n",
            "__________________________________________________________________________________________________\n",
            "layer_normalization_8 (LayerNor (None, 50, 64)       128         gru_7[0][0]                      \n",
            "__________________________________________________________________________________________________\n",
            "concatenate_2 (Concatenate)     (None, 50, 320)      0           dropout_2[0][0]                  \n",
            "                                                                 layer_normalization_8[0][0]      \n",
            "__________________________________________________________________________________________________\n",
            "gru_8 (GRU)                     (None, 50, 32)       33888       concatenate_2[0][0]              \n",
            "__________________________________________________________________________________________________\n",
            "layer_normalization_9 (LayerNor (None, 50, 32)       64          gru_8[0][0]                      \n",
            "__________________________________________________________________________________________________\n",
            "lstm_2 (LSTM)                   (None, 32)           8320        layer_normalization_9[0][0]      \n",
            "__________________________________________________________________________________________________\n",
            "layer_normalization_10 (LayerNo (None, 32)           64          lstm_2[0][0]                     \n",
            "__________________________________________________________________________________________________\n",
            "dense_2 (Dense)                 (None, 5)            165         layer_normalization_10[0][0]     \n",
            "==================================================================================================\n",
            "Total params: 3,713,733\n",
            "Trainable params: 3,713,221\n",
            "Non-trainable params: 512\n",
            "__________________________________________________________________________________________________\n",
            "Train on 1077210 samples, validate on 10992 samples\n",
            "Epoch 1/5\n",
            "1077210/1077210 [==============================] - 367s 341us/step - loss: 2.3041 - acc: 0.6327 - val_loss: 0.9242 - val_acc: 0.6920\n",
            "Epoch 2/5\n",
            "1077210/1077210 [==============================] - 358s 333us/step - loss: 0.8876 - acc: 0.6828 - val_loss: 0.7961 - val_acc: 0.7042\n",
            "Epoch 3/5\n",
            "1077210/1077210 [==============================] - 357s 332us/step - loss: 0.8248 - acc: 0.6934 - val_loss: 0.8033 - val_acc: 0.7012\n",
            "Epoch 4/5\n",
            "1077210/1077210 [==============================] - 357s 331us/step - loss: 0.8029 - acc: 0.6984 - val_loss: 0.7718 - val_acc: 0.7051\n",
            "Epoch 5/5\n",
            "1077210/1077210 [==============================] - 357s 331us/step - loss: 0.7870 - acc: 0.7031 - val_loss: 0.7658 - val_acc: 0.7053\n",
            "Train on 1077210 samples, validate on 10992 samples\n",
            "Epoch 1/50\n",
            "1077210/1077210 [==============================] - 430s 399us/step - loss: 0.7579 - acc: 0.7117 - val_loss: 0.7158 - val_acc: 0.7284\n",
            "Epoch 2/50\n",
            "1077210/1077210 [==============================] - 421s 391us/step - loss: 0.7334 - acc: 0.7189 - val_loss: 0.7091 - val_acc: 0.7293\n",
            "Epoch 3/50\n",
            "1077210/1077210 [==============================] - 420s 390us/step - loss: 0.7200 - acc: 0.7233 - val_loss: 0.6896 - val_acc: 0.7379\n",
            "Epoch 4/50\n",
            "1077210/1077210 [==============================] - 419s 389us/step - loss: 0.7087 - acc: 0.7272 - val_loss: 0.7131 - val_acc: 0.7282\n",
            "Epoch 5/50\n",
            "1077210/1077210 [==============================] - 418s 388us/step - loss: 0.6998 - acc: 0.7303 - val_loss: 0.6864 - val_acc: 0.7396\n",
            "Epoch 6/50\n",
            "1077210/1077210 [==============================] - 418s 388us/step - loss: 0.6934 - acc: 0.7323 - val_loss: 0.6881 - val_acc: 0.7341\n",
            "Epoch 7/50\n",
            "1077210/1077210 [==============================] - 419s 389us/step - loss: 0.6868 - acc: 0.7345 - val_loss: 0.6715 - val_acc: 0.7444\n",
            "Epoch 8/50\n",
            "1077210/1077210 [==============================] - 419s 389us/step - loss: 0.6821 - acc: 0.7362 - val_loss: 0.6805 - val_acc: 0.7400\n",
            "Epoch 9/50\n",
            "1077210/1077210 [==============================] - 421s 391us/step - loss: 0.6775 - acc: 0.7385 - val_loss: 0.6728 - val_acc: 0.7451\n",
            "Epoch 10/50\n",
            "1077210/1077210 [==============================] - 420s 390us/step - loss: 0.6730 - acc: 0.7399 - val_loss: 0.6749 - val_acc: 0.7404\n",
            "Epoch 11/50\n",
            "1077210/1077210 [==============================] - 416s 386us/step - loss: 0.6695 - acc: 0.7409 - val_loss: 0.6837 - val_acc: 0.7359\n",
            "Epoch 12/50\n",
            "1077210/1077210 [==============================] - 416s 386us/step - loss: 0.6661 - acc: 0.7422 - val_loss: 0.6668 - val_acc: 0.7484\n",
            "Epoch 13/50\n",
            "1077210/1077210 [==============================] - 417s 387us/step - loss: 0.6635 - acc: 0.7433 - val_loss: 0.6701 - val_acc: 0.7475\n",
            "Epoch 14/50\n",
            "1077210/1077210 [==============================] - 415s 386us/step - loss: 0.6610 - acc: 0.7445 - val_loss: 0.6747 - val_acc: 0.7411\n",
            "Epoch 15/50\n",
            "1077210/1077210 [==============================] - 413s 384us/step - loss: 0.6580 - acc: 0.7451 - val_loss: 0.6645 - val_acc: 0.7455\n",
            "Epoch 16/50\n",
            "1077210/1077210 [==============================] - 414s 384us/step - loss: 0.6557 - acc: 0.7462 - val_loss: 0.6666 - val_acc: 0.7432\n",
            "Epoch 17/50\n",
            "1077210/1077210 [==============================] - 413s 384us/step - loss: 0.6533 - acc: 0.7472 - val_loss: 0.6726 - val_acc: 0.7447\n",
            "Epoch 18/50\n",
            "1077210/1077210 [==============================] - 418s 388us/step - loss: 0.6518 - acc: 0.7477 - val_loss: 0.6642 - val_acc: 0.7437\n",
            "Epoch 19/50\n",
            "1077210/1077210 [==============================] - 416s 386us/step - loss: 0.6496 - acc: 0.7487 - val_loss: 0.6617 - val_acc: 0.7481\n",
            "Epoch 20/50\n",
            "1077210/1077210 [==============================] - 415s 385us/step - loss: 0.6471 - acc: 0.7497 - val_loss: 0.6598 - val_acc: 0.7469\n",
            "Epoch 21/50\n",
            "1077210/1077210 [==============================] - 417s 387us/step - loss: 0.6459 - acc: 0.7501 - val_loss: 0.6607 - val_acc: 0.7475\n",
            "Epoch 22/50\n",
            "1077210/1077210 [==============================] - 419s 389us/step - loss: 0.6438 - acc: 0.7509 - val_loss: 0.6642 - val_acc: 0.7465\n",
            "Epoch 23/50\n",
            "1077210/1077210 [==============================] - 419s 389us/step - loss: 0.6420 - acc: 0.7519 - val_loss: 0.6652 - val_acc: 0.7461\n",
            "Epoch 24/50\n",
            "1077210/1077210 [==============================] - 419s 389us/step - loss: 0.6411 - acc: 0.7518 - val_loss: 0.6635 - val_acc: 0.7460\n",
            "Epoch 25/50\n",
            "1077210/1077210 [==============================] - 419s 389us/step - loss: 0.6391 - acc: 0.7532 - val_loss: 0.6703 - val_acc: 0.7447\n",
            "Accuracy in the val. set: 0.7469068413391557\n",
            "Accuracy in the test set: 0.7469068413391557\n"
          ],
          "name": "stdout"
        }
      ]
    },
    {
      "cell_type": "markdown",
      "metadata": {
        "id": "8rgWAIdNh5QU",
        "colab_type": "text"
      },
      "source": [
        "#### All models are saved in the Drive and will be loaded and evaluated in our next notebook."
      ]
    }
  ]
}